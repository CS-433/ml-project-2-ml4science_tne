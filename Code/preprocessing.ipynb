{
 "cells": [
  {
   "cell_type": "markdown",
   "metadata": {
    "vscode": {
     "languageId": "plaintext"
    }
   },
   "source": [
    "# Preprocessing\n"
   ]
  },
  {
   "cell_type": "code",
   "execution_count": null,
   "metadata": {
    "vscode": {
     "languageId": "plaintext"
    }
   },
   "outputs": [],
   "source": [
    "import numpy as np\n",
    "import matplotlib.pyplot as plt\n",
    "from Functions_examples import *"
   ]
  },
  {
   "cell_type": "markdown",
   "metadata": {},
   "source": [
    "## Load data "
   ]
  },
  {
   "cell_type": "code",
   "execution_count": null,
   "metadata": {
    "vscode": {
     "languageId": "plaintext"
    }
   },
   "outputs": [],
   "source": [
    "data = load_pickle_variable('../Data/Dataset_4subjects_Exe_Obs')"
   ]
  },
  {
   "cell_type": "markdown",
   "metadata": {},
   "source": [
    "## Subsample the data \n",
    "\n",
    "Sampling frequency :\n",
    "\n",
    "Subsampling : 500 Hz (suggested)\n",
    "\n",
    "_make sure to respect the Nyquist theorem_"
   ]
  },
  {
   "cell_type": "code",
   "execution_count": null,
   "metadata": {
    "vscode": {
     "languageId": "plaintext"
    }
   },
   "outputs": [],
   "source": []
  },
  {
   "cell_type": "markdown",
   "metadata": {},
   "source": [
    "## Problems due to bipolar referencing\n",
    "\n",
    "For every electrode shaft, if a signal looks weird (=flat), it is likely that the signal is bipolar-referenced. The signal needs to be removed"
   ]
  },
  {
   "cell_type": "code",
   "execution_count": null,
   "metadata": {
    "vscode": {
     "languageId": "plaintext"
    }
   },
   "outputs": [],
   "source": []
  },
  {
   "cell_type": "markdown",
   "metadata": {},
   "source": [
    "## Filtering \n",
    "\n",
    "sEEG data : to 150 Hz\n",
    "\n",
    "Divide the signals in the usual different frequency bands :\n",
    "- Delta (0.5-4 Hz)\n",
    "- Theta (4-8 Hz)\n",
    "- Alpha (8-13 Hz)\n",
    "- Beta (13-30 Hz)\n",
    "- Gamma (30-100 Hz)\n",
    "\n",
    "Maybe try other separations of frequency bands (e.g. low and high gamma, low and high beta, etc.)"
   ]
  },
  {
   "cell_type": "code",
   "execution_count": null,
   "metadata": {
    "vscode": {
     "languageId": "plaintext"
    }
   },
   "outputs": [],
   "source": []
  },
  {
   "cell_type": "markdown",
   "metadata": {},
   "source": [
    "## Normalization\n",
    "\n",
    "Methods \n",
    "- Normalize the data related to the trial itself by its respective baseline \n",
    "    -  1 second before TrialStart and CueOne\n",
    "- Normalize the data related to the average baseline\n",
    "    - Average of the segment from TrialStart to CueOne from all trials "
   ]
  },
  {
   "cell_type": "code",
   "execution_count": null,
   "metadata": {
    "vscode": {
     "languageId": "plaintext"
    }
   },
   "outputs": [],
   "source": []
  },
  {
   "cell_type": "markdown",
   "metadata": {},
   "source": [
    "## Trial duration\n",
    "\n",
    "Every trial have a different duration \n",
    "\n",
    "Methods \n",
    "- Cut segments of neural data around a certain trigger of interes \n",
    "- Normalizing the duration of the trials loosing the absolute temporal information\n",
    "    - Every trial corresponds to 100% of the movement\n",
    "    - Subsample or upsample every trial to have the same number of points "
   ]
  },
  {
   "cell_type": "code",
   "execution_count": null,
   "metadata": {
    "vscode": {
     "languageId": "plaintext"
    }
   },
   "outputs": [],
   "source": []
  },
  {
   "cell_type": "code",
   "execution_count": null,
   "metadata": {
    "vscode": {
     "languageId": "plaintext"
    }
   },
   "outputs": [],
   "source": []
  }
 ],
 "metadata": {
  "language_info": {
   "name": "python"
  }
 },
 "nbformat": 4,
 "nbformat_minor": 2
}
