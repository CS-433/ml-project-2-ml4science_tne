{
 "cells": [
  {
   "cell_type": "code",
   "execution_count": 8,
   "metadata": {},
   "outputs": [],
   "source": [
    "from utils import *\n",
    "from dataset import *\n",
    "from constants import *\n",
    "\n",
    "import os\n",
    "from dataset import Participant\n",
    "from models.DeepModels import CNN"
   ]
  },
  {
   "cell_type": "code",
   "execution_count": 9,
   "metadata": {},
   "outputs": [],
   "source": [
    "use_saved = False\n",
    "part_name = 's6'"
   ]
  },
  {
   "cell_type": "code",
   "execution_count": 14,
   "metadata": {},
   "outputs": [],
   "source": [
    "if use_saved:\n",
    "    participant = Participant.load_from_pickle(f'saved/{part_name}.pkl')\n",
    "else:\n",
    "    # participant = Participant(part_name, data_path=DATA_PATH_NOTEBOOK, alpha=0.05)\n",
    "    saved_dir = os.path.join(os.getcwd(), 'saved')\n",
    "    if not os.path.exists(saved_dir):\n",
    "        os.makedirs(saved_dir)\n",
    "    # with open(f'saved/{part_name}.pkl', 'wb') as f:\n",
    "    #     pickle.dump(participant, f, pickle.HIGHEST_PROTOCOL)"
   ]
  },
  {
   "cell_type": "code",
   "execution_count": null,
   "metadata": {},
   "outputs": [],
   "source": [
    "channels = participant.relevant_channels\n",
    "model = CNN()"
   ]
  },
  {
   "cell_type": "code",
   "execution_count": null,
   "metadata": {},
   "outputs": [],
   "source": []
  }
 ],
 "metadata": {
  "kernelspec": {
   "display_name": "tne",
   "language": "python",
   "name": "python3"
  },
  "language_info": {
   "codemirror_mode": {
    "name": "ipython",
    "version": 3
   },
   "file_extension": ".py",
   "mimetype": "text/x-python",
   "name": "python",
   "nbconvert_exporter": "python",
   "pygments_lexer": "ipython3",
   "version": "3.12.7"
  }
 },
 "nbformat": 4,
 "nbformat_minor": 2
}
