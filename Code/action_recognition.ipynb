{
 "cells": [
  {
   "cell_type": "code",
   "execution_count": 2,
   "metadata": {},
   "outputs": [],
   "source": [
    "from utils import *\n",
    "from dataset import *\n",
    "from constants import *\n",
    "from sklearn.svm import SVC\n",
    "from sklearn.decomposition import PCA\n",
    "from sklearn.model_selection import train_test_split, GridSearchCV\n",
    "from sklearn.preprocessing import StandardScaler\n",
    "from sklearn.metrics import accuracy_score\n",
    "from sklearn.ensemble import RandomForestClassifier\n",
    "\n",
    "from dataset import Participant"
   ]
  },
  {
   "cell_type": "markdown",
   "metadata": {},
   "source": [
    "#### Select participant and session (session only for plot purposes)"
   ]
  },
  {
   "cell_type": "code",
   "execution_count": 3,
   "metadata": {},
   "outputs": [],
   "source": [
    "participant = Participant('s12', data_path='../Data/Dataset_4subjects_Exe_Obs')"
   ]
  },
  {
   "cell_type": "code",
   "execution_count": 4,
   "metadata": {},
   "outputs": [
    {
     "name": "stdout",
     "output_type": "stream",
     "text": [
      "Number of sessions: 2\n",
      "Number of channels: 186\n",
      "Number of relevant channels: 1\n",
      "The relevant channels are located in the following locations:\n",
      "[np.str_('precuneus')]\n"
     ]
    }
   ],
   "source": [
    "print(f'Number of sessions: {len(participant.sessions)}')\n",
    "print(f'Number of channels: {len(participant.channels)}')\n",
    "print(f'Number of relevant channels: {len(participant.relevant_channels)}')\n",
    "print(f'The relevant channels are located in the following locations:')\n",
    "print([participant.channels_locations[i] for i in [channel.idx for channel in participant.relevant_channels]])"
   ]
  },
  {
   "cell_type": "markdown",
   "metadata": {},
   "source": [
    "#### Get participant's features"
   ]
  },
  {
   "cell_type": "code",
   "execution_count": null,
   "metadata": {},
   "outputs": [],
   "source": [
    "features = participant.get_features_all_sessions_ExObs()"
   ]
  },
  {
   "cell_type": "markdown",
   "metadata": {},
   "source": [
    "Compute PSD for each baselines and activities, then mean it"
   ]
  },
  {
   "cell_type": "code",
   "execution_count": 5,
   "metadata": {},
   "outputs": [
    {
     "name": "stdout",
     "output_type": "stream",
     "text": [
      "The dataset contains 257 samples and 1693 features.\n"
     ]
    }
   ],
   "source": [
    "print(f'The dataset contains {features.shape[0]} samples and {features.shape[1]} features.')"
   ]
  },
  {
   "cell_type": "markdown",
   "metadata": {},
   "source": [
    "## Train a model (SVM)"
   ]
  },
  {
   "cell_type": "markdown",
   "metadata": {},
   "source": [
    "#### Start without any dimensionality reduction"
   ]
  },
  {
   "cell_type": "code",
   "execution_count": 6,
   "metadata": {},
   "outputs": [
    {
     "name": "stdout",
     "output_type": "stream",
     "text": [
      "{'C': 1, 'kernel': 'rbf'}\n",
      "Accuracy: 0.62\n"
     ]
    }
   ],
   "source": [
    "X = features.drop('label', axis=1)\n",
    "y = features['label']\n",
    "\n",
    "X_train, X_test, y_train, y_test = train_test_split(X, y, test_size=0.2)\n",
    "\n",
    "# Normalize features\n",
    "scaler = StandardScaler()\n",
    "X_train = scaler.fit_transform(X_train)\n",
    "X_test = scaler.transform(X_test)\n",
    "\n",
    "# Train SVM\n",
    "parameters = {'C': [0.1, 1, 10, 100, 1000], 'kernel': ['linear', 'rbf', 'sigmoid']}\n",
    "svm = SVC()\n",
    "clf = GridSearchCV(svm, parameters)\n",
    "clf.fit(X_train, y_train)\n",
    "print(clf.best_params_)\n",
    "\n",
    "# Test SVM\n",
    "y_pred = clf.predict(X_test)\n",
    "accuracy = accuracy_score(y_test, y_pred)\n",
    "print(f\"Accuracy: {accuracy:.2f}\")"
   ]
  },
  {
   "cell_type": "markdown",
   "metadata": {},
   "source": [
    "#### With PCA"
   ]
  },
  {
   "cell_type": "code",
   "execution_count": null,
   "metadata": {},
   "outputs": [
    {
     "name": "stdout",
     "output_type": "stream",
     "text": [
      "{'C': 1, 'kernel': 'rbf'}\n",
      "Accuracy: 0.62\n"
     ]
    }
   ],
   "source": [
    "X = features.drop('label', axis=1)\n",
    "y = features['label']\n",
    "\n",
    "X_train, X_test, y_train, y_test = train_test_split(X, y, test_size=0.2)\n",
    "\n",
    "# Normalize features\n",
    "scaler = StandardScaler()\n",
    "X_train = scaler.fit_transform(X_train)\n",
    "X_test = scaler.transform(X_test)\n",
    "\n",
    "pca = PCA(n_components=100)\n",
    "X_train_pca = pca.fit_transform(X_train)\n",
    "X_test_pca = pca.transform(X_test)\n",
    "\n",
    "# Train SVM\n",
    "parameters = {'C': [0.1, 1, 10, 100, 1000], 'kernel': ['linear', 'rbf', 'sigmoid']}\n",
    "svm = SVC()\n",
    "clf = GridSearchCV(svm, parameters)\n",
    "clf.fit(X_train_pca, y_train)\n",
    "print(clf.best_params_)\n",
    "\n",
    "# Test SVM\n",
    "y_pred = clf.predict(X_test_pca)\n",
    "accuracy = accuracy_score(y_test, y_pred)\n",
    "print(f\"Accuracy: {accuracy:.2f}\")"
   ]
  },
  {
   "cell_type": "markdown",
   "metadata": {},
   "source": [
    "## Train a model (Random Forest)"
   ]
  },
  {
   "cell_type": "code",
   "execution_count": null,
   "metadata": {},
   "outputs": [
    {
     "name": "stderr",
     "output_type": "stream",
     "text": [
      "c:\\Users\\sarah\\miniconda3\\envs\\ml4scienceTNEproject\\Lib\\site-packages\\numpy\\ma\\core.py:2881: RuntimeWarning: invalid value encountered in cast\n",
      "  _data = np.array(data, dtype=dtype, copy=copy,\n"
     ]
    },
    {
     "name": "stdout",
     "output_type": "stream",
     "text": [
      "{'max_depth': 25, 'n_estimators': 50}\n",
      "Accuracy: 0.73\n"
     ]
    }
   ],
   "source": [
    "X_train, X_test, y_train, y_test = train_test_split(X, y, test_size=0.2)\n",
    "\n",
    "# Normalize features\n",
    "scaler = StandardScaler()\n",
    "X_train = scaler.fit_transform(X_train)\n",
    "X_test = scaler.transform(X_test)\n",
    "\n",
    "# Train Random Forest\n",
    "n_estimators = [10, 50, 90, 130]\n",
    "max_depth = [10, 25, 50]\n",
    "param_grid = {'n_estimators': n_estimators, 'max_depth': max_depth}\n",
    "\n",
    "rf = RandomForestClassifier() \n",
    "clf = GridSearchCV(rf, param_grid)\n",
    "clf.fit(X_train, y_train)\n",
    "print(clf.best_params_)\n",
    "\n",
    "# Test Random Forest\n",
    "y_pred = clf.predict(X_test)\n",
    "accuracy = accuracy_score(y_test, y_pred)\n",
    "print(f\"Accuracy: {accuracy:.2f}\")\n"
   ]
  },
  {
   "cell_type": "markdown",
   "metadata": {},
   "source": [
    "## Train model with one frequency band"
   ]
  },
  {
   "cell_type": "code",
   "execution_count": null,
   "metadata": {},
   "outputs": [
    {
     "name": "stdout",
     "output_type": "stream",
     "text": [
      "**********************************************************\n",
      "**********************************************************\n",
      "Band: Delta\n",
      "**********************************************************\n",
      "SVM\n",
      "{'C': 1, 'kernel': 'sigmoid'}\n",
      "Accuracy: 0.42\n",
      "**********************************************************\n",
      "PCA SVM\n",
      "{'C': 1, 'kernel': 'sigmoid'}\n",
      "Accuracy: 0.42\n",
      "**********************************************************\n",
      "RANDOM FOREST\n",
      "{'max_depth': 25, 'n_estimators': 10}\n",
      "Accuracy: 0.56\n",
      "**********************************************************\n",
      "**********************************************************\n",
      "Band: Theta\n",
      "**********************************************************\n",
      "SVM\n",
      "{'C': 1000, 'kernel': 'linear'}\n",
      "Accuracy: 0.46\n",
      "**********************************************************\n",
      "PCA SVM\n",
      "{'C': 1000, 'kernel': 'linear'}\n",
      "Accuracy: 0.48\n",
      "**********************************************************\n",
      "RANDOM FOREST\n",
      "{'max_depth': 25, 'n_estimators': 130}\n",
      "Accuracy: 0.52\n",
      "**********************************************************\n",
      "**********************************************************\n",
      "Band: Alpha\n",
      "**********************************************************\n",
      "SVM\n",
      "{'C': 1, 'kernel': 'sigmoid'}\n",
      "Accuracy: 0.67\n",
      "**********************************************************\n",
      "PCA SVM\n",
      "{'C': 1, 'kernel': 'sigmoid'}\n",
      "Accuracy: 0.67\n",
      "**********************************************************\n",
      "RANDOM FOREST\n",
      "{'max_depth': 50, 'n_estimators': 90}\n",
      "Accuracy: 0.65\n",
      "**********************************************************\n",
      "**********************************************************\n",
      "Band: Beta\n",
      "**********************************************************\n",
      "SVM\n",
      "{'C': 100, 'kernel': 'linear'}\n",
      "Accuracy: 0.52\n",
      "**********************************************************\n",
      "PCA SVM\n",
      "{'C': 100, 'kernel': 'linear'}\n",
      "Accuracy: 0.50\n",
      "**********************************************************\n",
      "RANDOM FOREST\n",
      "{'max_depth': 25, 'n_estimators': 130}\n",
      "Accuracy: 0.60\n",
      "**********************************************************\n",
      "**********************************************************\n",
      "Band: Gamma\n",
      "**********************************************************\n",
      "SVM\n",
      "{'C': 1, 'kernel': 'sigmoid'}\n",
      "Accuracy: 0.65\n",
      "**********************************************************\n",
      "PCA SVM\n",
      "{'C': 1, 'kernel': 'sigmoid'}\n",
      "Accuracy: 0.65\n",
      "**********************************************************\n",
      "RANDOM FOREST\n",
      "{'max_depth': 10, 'n_estimators': 130}\n",
      "Accuracy: 0.62\n",
      "**********************************************************\n",
      "**********************************************************\n",
      "Band: HighGamma\n",
      "**********************************************************\n",
      "SVM\n",
      "{'C': 1, 'kernel': 'rbf'}\n",
      "Accuracy: 0.62\n",
      "**********************************************************\n",
      "PCA SVM\n",
      "{'C': 1, 'kernel': 'rbf'}\n",
      "Accuracy: 0.56\n",
      "**********************************************************\n",
      "RANDOM FOREST\n",
      "{'max_depth': 10, 'n_estimators': 50}\n",
      "Accuracy: 0.63\n"
     ]
    }
   ],
   "source": [
    "for band, (high, low) in FREQ_BANDS.items() :\n",
    "    print('**********************************************************')\n",
    "    print('**********************************************************')\n",
    "    print(f'Band: {band}')\n",
    "    \n",
    "    freq_band = {band: (high, low)}\n",
    "    features = participant.get_features_all_sessions_ExObs(freq_band=freq_band)\n",
    "    \n",
    "    X = features.drop('label', axis=1)\n",
    "    y = features['label']\n",
    "\n",
    "    X_train, X_test, y_train, y_test = train_test_split(X, y, test_size=0.2)\n",
    "    \n",
    "    # Normalize features\n",
    "    scaler = StandardScaler()\n",
    "    X_train = scaler.fit_transform(X_train)\n",
    "    X_test = scaler.transform(X_test)\n",
    "    \n",
    "    # SVM\n",
    "    print('**********************************************************')\n",
    "    print('SVM')\n",
    "    \n",
    "    # Train SVM\n",
    "    parameters = {'C': [0.1, 1, 10, 100, 1000], 'kernel': ['linear', 'rbf', 'sigmoid']}\n",
    "    svm = SVC()\n",
    "    clf = GridSearchCV(svm, parameters)\n",
    "    clf.fit(X_train, y_train)\n",
    "    print(clf.best_params_)\n",
    "\n",
    "    # Test SVM\n",
    "    y_pred = clf.predict(X_test)\n",
    "    accuracy = accuracy_score(y_test, y_pred)\n",
    "    print(f\"Accuracy: {accuracy:.2f}\")\n",
    "    \n",
    "    # PCA SVM\n",
    "    print('**********************************************************')\n",
    "    print('PCA SVM')\n",
    "    \n",
    "    pca = PCA(n_components=100)\n",
    "    X_train_pca = pca.fit_transform(X_train)\n",
    "    X_test_pca = pca.transform(X_test)\n",
    "\n",
    "    # Train SVM\n",
    "    parameters = {'C': [0.1, 1, 10, 100, 1000], 'kernel': ['linear', 'rbf', 'sigmoid']}\n",
    "    svm = SVC()\n",
    "    clf = GridSearchCV(svm, parameters)\n",
    "    clf.fit(X_train_pca, y_train)\n",
    "    print(clf.best_params_)\n",
    "\n",
    "    # Test SVM\n",
    "    y_pred = clf.predict(X_test_pca)\n",
    "    accuracy = accuracy_score(y_test, y_pred)\n",
    "    print(f\"Accuracy: {accuracy:.2f}\")\n",
    "    \n",
    "    # RANDOM FOREST\n",
    "    print('**********************************************************')\n",
    "    print('RANDOM FOREST')\n",
    "    \n",
    "    # Train Random Forest\n",
    "    n_estimators = [10, 50, 90, 130]\n",
    "    max_depth = [10, 25, 50]\n",
    "    param_grid = {'n_estimators': n_estimators, 'max_depth': max_depth}\n",
    "\n",
    "    rf = RandomForestClassifier() \n",
    "    clf = GridSearchCV(rf, param_grid)\n",
    "    clf.fit(X_train, y_train)\n",
    "    print(clf.best_params_)\n",
    "\n",
    "    # Test Random Forest\n",
    "    y_pred = clf.predict(X_test)\n",
    "    accuracy = accuracy_score(y_test, y_pred)\n",
    "    print(f\"Accuracy: {accuracy:.2f}\")\n",
    "    \n"
   ]
  },
  {
   "cell_type": "code",
   "execution_count": null,
   "metadata": {},
   "outputs": [],
   "source": []
  }
 ],
 "metadata": {
  "kernelspec": {
   "display_name": "ml4scienceTNEproject",
   "language": "python",
   "name": "python3"
  },
  "language_info": {
   "codemirror_mode": {
    "name": "ipython",
    "version": 3
   },
   "file_extension": ".py",
   "mimetype": "text/x-python",
   "name": "python",
   "nbconvert_exporter": "python",
   "pygments_lexer": "ipython3",
   "version": "3.13.0"
  }
 },
 "nbformat": 4,
 "nbformat_minor": 2
}
