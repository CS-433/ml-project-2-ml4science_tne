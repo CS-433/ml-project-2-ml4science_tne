{
 "cells": [
  {
   "cell_type": "code",
   "execution_count": 1,
   "metadata": {},
   "outputs": [],
   "source": [
    "import numpy as np\n",
    "import matplotlib.pyplot as plt\n",
    "from utils import *\n",
    "from dataset import *"
   ]
  },
  {
   "cell_type": "markdown",
   "metadata": {},
   "source": [
    "## Load Data"
   ]
  },
  {
   "cell_type": "markdown",
   "metadata": {},
   "source": [
    "#### Load raw data from pickle file"
   ]
  },
  {
   "cell_type": "code",
   "execution_count": 2,
   "metadata": {},
   "outputs": [],
   "source": [
    "raw_data = load_pickle('../Data/Dataset_4subjects_Exe_Obs')"
   ]
  },
  {
   "cell_type": "markdown",
   "metadata": {},
   "source": [
    "#### Select participant and session"
   ]
  },
  {
   "cell_type": "code",
   "execution_count": 3,
   "metadata": {},
   "outputs": [],
   "source": [
    "data = raw_data['s6']['sess1']"
   ]
  },
  {
   "cell_type": "markdown",
   "metadata": {},
   "source": [
    "## Separate into trials"
   ]
  },
  {
   "cell_type": "code",
   "execution_count": null,
   "metadata": {},
   "outputs": [],
   "source": [
    "def get_trials(session_data, channel, fps):\n",
    "    '''\n",
    "    Get the trials from the session data for a given channel.\n",
    "    \n",
    "    Parameters:\n",
    "    - session_data: dict, the data of a session.\n",
    "    - channel: int, the index of the channel.\n",
    "    - fps: int, the sampling rate of the data.\n",
    "    \n",
    "    Returns:\n",
    "    - trials: list of 1D NumPy arrays, the trials.\n",
    "    '''\n",
    "    \n",
    "    trial_starts = session_data['trials_info']['TS_TrialStart']\n",
    "    trial_end = session_data['trials_info']['TS_HandBack']\n",
    "    trials = {f\"trial_{i}\":session_data['neural_data'][channel][int(trial_starts[i]) * fps:int(trial_end[i]) * fps] for i in range(len(trial_starts))}\n",
    "    return trials\n",
    "\n",
    "def separate_trials (session_data, fps=2048) :\n",
    "    '''\n",
    "    Separate trials from the session data for all channels.\n",
    "    \n",
    "    Parameters:\n",
    "    - session_data: dict, the data of a session.\n",
    "    - fps: int, the sampling rate of the data.\n",
    "    \n",
    "    Returns:\n",
    "    - session_data: dict, the input dictionnary with an new trial key that stores the timepoints for each trial.\n",
    "    '''\n",
    "    trial_dict = {f'channel_{channel}': get_trials(session_data, channel, fps = fps) for channel in range(len(session_data['channel_labels']))}\n",
    "    session_data['trials'] = trial_dict\n",
    "    return session_data"
   ]
  },
  {
   "cell_type": "code",
   "execution_count": 13,
   "metadata": {},
   "outputs": [],
   "source": [
    "def get_trials(session_data, fps):\n",
    "    trial_starts = session_data['trials_info']['TS_TrialStart']\n",
    "    trial_end = session_data['trials_info']['TS_HandBack']\n",
    "    trials = []\n",
    "    for i in range(len(trial_starts)):\n",
    "        trials.append(session_data['neural_data'][:,int(trial_starts[i]) * fps:int(trial_end[i]) * fps])\n",
    "    return trials"
   ]
  },
  {
   "cell_type": "code",
   "execution_count": null,
   "metadata": {},
   "outputs": [
    {
     "data": {
      "text/plain": [
       "array([[ -88.79145495,  -93.57662318,  -97.03257801, ...,   54.23190661,\n",
       "          55.02943465,   53.43437858],\n",
       "       [  68.85325399,   67.78988327,   67.78988327, ...,  -23.12831312,\n",
       "         -20.735729  ,  -16.48224613],\n",
       "       [  24.45752651,   26.85011063,   29.24269474, ...,  -50.77595178,\n",
       "         -51.04179446,  -49.44673838],\n",
       "       ...,\n",
       "       [ -32.16696422,  -33.76202029,  -37.74966049, ...,    6.38022431,\n",
       "           9.0386511 ,   15.15303273],\n",
       "       [  64.59977111,   67.78988327,   67.78988327, ...,   45.99078355,\n",
       "          52.63685054,   57.15617609],\n",
       "       [ -58.35246815,  173.72819104,   84.67089342, ..., -267.83649958,\n",
       "          97.16549935,   16.88101015]])"
      ]
     },
     "execution_count": 31,
     "metadata": {},
     "output_type": "execute_result"
    }
   ],
   "source": [
    "trials = get_trials(data, 2048) #list of trials each containing an array with the timeseries of that trial for each channel."
   ]
  },
  {
   "cell_type": "code",
   "execution_count": null,
   "metadata": {},
   "outputs": [],
   "source": []
  }
 ],
 "metadata": {
  "kernelspec": {
   "display_name": "mlcourse",
   "language": "python",
   "name": "python3"
  },
  "language_info": {
   "codemirror_mode": {
    "name": "ipython",
    "version": 3
   },
   "file_extension": ".py",
   "mimetype": "text/x-python",
   "name": "python",
   "nbconvert_exporter": "python",
   "pygments_lexer": "ipython3",
   "version": "3.11.10"
  }
 },
 "nbformat": 4,
 "nbformat_minor": 2
}
