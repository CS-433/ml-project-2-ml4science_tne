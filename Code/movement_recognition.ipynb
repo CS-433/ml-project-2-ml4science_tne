{
 "cells": [
  {
   "cell_type": "code",
   "execution_count": 1,
   "metadata": {},
   "outputs": [],
   "source": [
    "from utils import *\n",
    "from dataset import *\n",
    "from constants import *\n",
    "from sklearn.svm import SVC\n",
    "from sklearn.linear_model import LogisticRegression\n",
    "from sklearn.decomposition import PCA\n",
    "from sklearn.model_selection import train_test_split, GridSearchCV\n",
    "from sklearn.preprocessing import StandardScaler\n",
    "from sklearn.metrics import accuracy_score\n",
    "from sklearn.ensemble import RandomForestClassifier\n",
    "\n",
    "from dataset import Participant"
   ]
  },
  {
   "cell_type": "code",
   "execution_count": 2,
   "metadata": {},
   "outputs": [],
   "source": [
    "participant = Participant('s6', data_path=DATA_PATH_NOTEBOOK)"
   ]
  },
  {
   "cell_type": "code",
   "execution_count": 3,
   "metadata": {},
   "outputs": [],
   "source": [
    "test_size = 0.3\n",
    "nb_pca_components = 20"
   ]
  },
  {
   "cell_type": "markdown",
   "metadata": {},
   "source": [
    "## Execution"
   ]
  },
  {
   "cell_type": "code",
   "execution_count": 4,
   "metadata": {},
   "outputs": [
    {
     "name": "stderr",
     "output_type": "stream",
     "text": [
      "  0%|          | 0/256 [00:00<?, ?it/s]"
     ]
    },
    {
     "name": "stderr",
     "output_type": "stream",
     "text": [
      "100%|██████████| 40/40 [00:02<00:00, 17.87it/s]\n",
      "100%|██████████| 40/40 [00:01<00:00, 24.00it/s]\n",
      "100%|██████████| 40/40 [00:01<00:00, 25.47it/s]\n",
      "100%|██████████| 40/40 [00:02<00:00, 17.91it/s]\n",
      "100%|██████████| 40/40 [00:02<00:00, 19.92it/s]\n",
      "100%|██████████| 40/40 [00:01<00:00, 28.74it/s]]\n",
      "100%|██████████| 40/40 [00:01<00:00, 20.20it/s]]\n",
      "100%|██████████| 40/40 [00:01<00:00, 26.39it/s]]\n",
      "100%|██████████| 40/40 [00:02<00:00, 16.65it/s]]\n",
      "100%|██████████| 40/40 [00:02<00:00, 19.21it/s]]\n",
      "100%|██████████| 40/40 [00:01<00:00, 29.91it/s]]\n",
      "100%|██████████| 40/40 [00:01<00:00, 25.13it/s]]\n",
      "100%|██████████| 40/40 [00:01<00:00, 23.75it/s]]\n",
      "100%|██████████| 40/40 [00:01<00:00, 25.29it/s]]\n",
      "100%|██████████| 40/40 [00:02<00:00, 17.34it/s]]\n",
      "100%|██████████| 40/40 [00:01<00:00, 27.09it/s]]\n",
      "100%|██████████| 40/40 [00:01<00:00, 23.53it/s]]\n",
      "100%|██████████| 40/40 [00:01<00:00, 28.16it/s]]\n",
      "100%|██████████| 40/40 [00:02<00:00, 18.58it/s]]\n",
      "100%|██████████| 40/40 [00:01<00:00, 27.46it/s]]\n",
      "100%|██████████| 40/40 [00:01<00:00, 28.41it/s]]\n",
      "100%|██████████| 40/40 [00:02<00:00, 19.89it/s]]\n",
      "100%|██████████| 40/40 [00:02<00:00, 19.81it/s]]\n",
      "100%|██████████| 40/40 [00:01<00:00, 27.34it/s]]\n",
      "100%|██████████| 40/40 [00:02<00:00, 19.30it/s]]\n",
      "100%|██████████| 40/40 [00:01<00:00, 27.49it/s]]\n",
      "100%|██████████| 40/40 [00:02<00:00, 17.09it/s]]\n",
      "100%|██████████| 40/40 [00:02<00:00, 17.27it/s]]\n",
      "100%|██████████| 40/40 [00:02<00:00, 16.09it/s]]\n",
      "100%|██████████| 40/40 [00:02<00:00, 17.52it/s]]\n",
      "100%|██████████| 40/40 [00:01<00:00, 21.02it/s]]\n",
      "100%|██████████| 40/40 [00:02<00:00, 16.46it/s]]\n",
      "100%|██████████| 40/40 [00:01<00:00, 23.98it/s]]\n",
      "100%|██████████| 40/40 [00:02<00:00, 16.55it/s]]\n",
      "100%|██████████| 40/40 [00:02<00:00, 17.63it/s]]\n",
      "100%|██████████| 40/40 [00:01<00:00, 28.18it/s]]\n",
      "100%|██████████| 40/40 [00:02<00:00, 14.63it/s]]\n",
      "100%|██████████| 40/40 [00:01<00:00, 24.10it/s]]\n",
      "100%|██████████| 40/40 [00:01<00:00, 23.98it/s]]\n",
      "100%|██████████| 40/40 [00:01<00:00, 27.24it/s]]\n",
      "100%|██████████| 40/40 [00:02<00:00, 18.14it/s]]\n",
      "100%|██████████| 40/40 [00:01<00:00, 20.53it/s]]\n",
      "100%|██████████| 40/40 [00:01<00:00, 27.04it/s]]\n",
      "100%|██████████| 40/40 [00:01<00:00, 23.89it/s]]\n",
      "100%|██████████| 40/40 [00:01<00:00, 21.56it/s]]\n",
      "100%|██████████| 40/40 [00:02<00:00, 18.86it/s]]\n",
      "100%|██████████| 40/40 [00:02<00:00, 16.04it/s]]\n",
      "100%|██████████| 40/40 [00:02<00:00, 17.40it/s]]\n",
      "100%|██████████| 40/40 [00:01<00:00, 29.55it/s]]\n",
      "100%|██████████| 40/40 [00:02<00:00, 18.51it/s]]\n",
      "100%|██████████| 40/40 [00:01<00:00, 28.31it/s]t]\n",
      "100%|██████████| 40/40 [00:02<00:00, 16.25it/s]s]\n",
      "100%|██████████| 40/40 [00:02<00:00, 18.18it/s]s]\n",
      "100%|██████████| 40/40 [00:01<00:00, 22.49it/s]s]\n",
      "100%|██████████| 40/40 [00:02<00:00, 17.90it/s]s]\n",
      "100%|██████████| 40/40 [00:02<00:00, 16.87it/s]s]\n",
      "100%|██████████| 40/40 [00:01<00:00, 26.67it/s]s]\n",
      "100%|██████████| 40/40 [00:02<00:00, 17.49it/s]t]\n",
      "100%|██████████| 40/40 [00:01<00:00, 23.48it/s]t]\n",
      "100%|██████████| 40/40 [00:01<00:00, 25.29it/s]t]\n",
      "100%|██████████| 40/40 [00:02<00:00, 19.03it/s]t]\n",
      "100%|██████████| 40/40 [00:02<00:00, 18.86it/s]t]\n",
      "100%|██████████| 40/40 [00:01<00:00, 21.03it/s]t]\n",
      "100%|██████████| 40/40 [00:01<00:00, 28.43it/s]t]\n",
      "100%|██████████| 40/40 [00:02<00:00, 17.33it/s]t]\n",
      "100%|██████████| 40/40 [00:01<00:00, 25.76it/s]t]\n",
      "100%|██████████| 40/40 [00:01<00:00, 20.61it/s]t]\n",
      "100%|██████████| 40/40 [00:01<00:00, 23.50it/s]t]\n",
      "100%|██████████| 40/40 [00:01<00:00, 31.09it/s]t]\n",
      "100%|██████████| 40/40 [00:01<00:00, 27.25it/s]t]\n",
      "100%|██████████| 40/40 [00:02<00:00, 17.68it/s]s]\n",
      "100%|██████████| 40/40 [00:02<00:00, 17.21it/s]t]\n",
      "100%|██████████| 40/40 [00:02<00:00, 17.07it/s]t]\n",
      "100%|██████████| 40/40 [00:01<00:00, 26.75it/s]t]\n",
      "100%|██████████| 40/40 [00:02<00:00, 18.62it/s]t]\n",
      "100%|██████████| 40/40 [00:01<00:00, 22.84it/s]t]\n",
      "100%|██████████| 40/40 [00:02<00:00, 18.12it/s]t]\n",
      "100%|██████████| 40/40 [00:01<00:00, 20.14it/s]t]\n",
      "100%|██████████| 40/40 [00:01<00:00, 28.16it/s]t]\n",
      "100%|██████████| 40/40 [00:02<00:00, 16.91it/s]s]\n",
      "100%|██████████| 40/40 [00:02<00:00, 19.22it/s]s]\n",
      "100%|██████████| 40/40 [00:01<00:00, 30.00it/s]s]\n",
      "100%|██████████| 40/40 [00:02<00:00, 18.72it/s]s]\n",
      "100%|██████████| 40/40 [00:01<00:00, 21.83it/s]s]\n",
      "100%|██████████| 40/40 [00:01<00:00, 26.65it/s]s]\n",
      "100%|██████████| 40/40 [00:01<00:00, 20.34it/s]s]\n",
      "100%|██████████| 40/40 [00:01<00:00, 29.59it/s]s]\n",
      "100%|██████████| 40/40 [00:01<00:00, 29.84it/s]s]\n",
      "100%|██████████| 40/40 [00:02<00:00, 19.49it/s]s]\n",
      "100%|██████████| 40/40 [00:01<00:00, 21.07it/s]t]\n",
      "100%|██████████| 40/40 [00:01<00:00, 26.53it/s]t]\n",
      "100%|██████████| 40/40 [00:02<00:00, 19.31it/s]s]\n",
      "100%|██████████| 40/40 [00:01<00:00, 25.73it/s]s]\n",
      "100%|██████████| 40/40 [00:02<00:00, 16.37it/s]s]\n",
      "100%|██████████| 40/40 [00:02<00:00, 18.37it/s]s]\n",
      "100%|██████████| 40/40 [00:01<00:00, 26.65it/s]s]\n",
      "100%|██████████| 40/40 [00:01<00:00, 31.28it/s]s]\n",
      "100%|██████████| 40/40 [00:01<00:00, 28.90it/s]s]\n",
      "100%|██████████| 40/40 [00:02<00:00, 17.96it/s]s]\n",
      "100%|██████████| 40/40 [00:02<00:00, 17.48it/s]s]\n",
      "100%|██████████| 40/40 [00:01<00:00, 31.28it/s]t]\n",
      "100%|██████████| 40/40 [00:01<00:00, 25.63it/s]s]\n",
      "100%|██████████| 40/40 [00:01<00:00, 27.00it/s]t]\n",
      "100%|██████████| 40/40 [00:01<00:00, 29.21it/s]s]\n",
      "100%|██████████| 40/40 [00:01<00:00, 29.63it/s]s]\n",
      "100%|██████████| 40/40 [00:01<00:00, 27.88it/s]s]\n",
      "100%|██████████| 40/40 [00:02<00:00, 17.49it/s]s]\n",
      "100%|██████████| 40/40 [00:01<00:00, 23.90it/s]s]\n",
      "100%|██████████| 40/40 [00:01<00:00, 27.10it/s]t]\n",
      "100%|██████████| 40/40 [00:01<00:00, 28.99it/s]s]\n",
      "100%|██████████| 40/40 [00:01<00:00, 26.31it/s]s]\n",
      "100%|██████████| 40/40 [00:02<00:00, 17.86it/s]s]\n",
      "100%|██████████| 40/40 [00:02<00:00, 19.46it/s]s]\n",
      "100%|██████████| 40/40 [00:01<00:00, 25.03it/s]s]\n",
      "100%|██████████| 40/40 [00:01<00:00, 26.43it/s]s]\n",
      "100%|██████████| 40/40 [00:01<00:00, 24.24it/s]s]\n",
      "100%|██████████| 40/40 [00:02<00:00, 18.56it/s]s]\n",
      "100%|██████████| 40/40 [00:01<00:00, 20.32it/s]s]\n",
      "100%|██████████| 40/40 [00:01<00:00, 25.06it/s]s]\n",
      "100%|██████████| 40/40 [00:01<00:00, 26.90it/s]s]\n",
      "100%|██████████| 40/40 [00:01<00:00, 26.02it/s]s]\n",
      "100%|██████████| 40/40 [00:02<00:00, 16.13it/s]s]\n",
      "100%|██████████| 40/40 [00:02<00:00, 19.06it/s]t]\n",
      "100%|██████████| 40/40 [00:01<00:00, 25.70it/s]s]\n",
      "100%|██████████| 40/40 [00:01<00:00, 25.95it/s]s]\n",
      "100%|██████████| 40/40 [00:01<00:00, 27.76it/s]s]\n",
      "100%|██████████| 40/40 [00:01<00:00, 23.00it/s]s]\n",
      "100%|██████████| 40/40 [00:01<00:00, 28.32it/s]s]\n",
      "100%|██████████| 256/256 [03:55<00:00,  1.09it/s]\n"
     ]
    }
   ],
   "source": [
    "movtype = 'E'\n",
    "ex_features = participant.get_features_all_sessions_mvt(movtype)"
   ]
  },
  {
   "cell_type": "code",
   "execution_count": 5,
   "metadata": {},
   "outputs": [
    {
     "name": "stdout",
     "output_type": "stream",
     "text": [
      "The dataset contains 128 samples and 2881 features.\n"
     ]
    }
   ],
   "source": [
    "print(f'The dataset contains {ex_features.shape[0]} samples and {ex_features.shape[1]} features.')"
   ]
  },
  {
   "cell_type": "markdown",
   "metadata": {},
   "source": [
    "## Train a model (Logistic Regression as baseline)"
   ]
  },
  {
   "cell_type": "code",
   "execution_count": 6,
   "metadata": {},
   "outputs": [
    {
     "name": "stdout",
     "output_type": "stream",
     "text": [
      "{'penalty': 'l1'}\n",
      "Accuracy: 0.56\n"
     ]
    }
   ],
   "source": [
    "X = ex_features.drop('label', axis=1)\n",
    "y = ex_features['label']\n",
    "\n",
    "X_train, X_test, y_train, y_test = train_test_split(X, y, test_size=test_size, random_state=RANDOM_STATE)\n",
    "\n",
    "# Normalize features\n",
    "scaler = StandardScaler()\n",
    "X_train = scaler.fit_transform(X_train)\n",
    "X_test = scaler.transform(X_test)\n",
    "\n",
    "# Train logistic regression\n",
    "parameters = {'penalty': ['l1', 'l2']}\n",
    "model = LogisticRegression(solver='liblinear')\n",
    "clf = GridSearchCV(model, parameters)\n",
    "clf.fit(X_train, y_train)\n",
    "print(clf.best_params_)\n",
    "\n",
    "# Test logistic regression\n",
    "y_pred = clf.predict(X_test)\n",
    "accuracy = accuracy_score(y_test, y_pred)\n",
    "print(f\"Accuracy: {accuracy:.2f}\")"
   ]
  },
  {
   "cell_type": "markdown",
   "metadata": {},
   "source": [
    "#### With PCA"
   ]
  },
  {
   "cell_type": "code",
   "execution_count": 7,
   "metadata": {},
   "outputs": [
    {
     "name": "stdout",
     "output_type": "stream",
     "text": [
      "{'penalty': 'l2'}\n",
      "Accuracy: 0.56\n"
     ]
    }
   ],
   "source": [
    "X = ex_features.drop('label', axis=1)\n",
    "y = ex_features['label']\n",
    "\n",
    "X_train, X_test, y_train, y_test = train_test_split(X, y, test_size=test_size, random_state=RANDOM_STATE)\n",
    "\n",
    "# Normalize features\n",
    "scaler = StandardScaler()\n",
    "X_train = scaler.fit_transform(X_train)\n",
    "X_test = scaler.transform(X_test)\n",
    "\n",
    "pca = PCA(n_components=nb_pca_components)\n",
    "X_train_pca = pca.fit_transform(X_train)\n",
    "X_test_pca = pca.transform(X_test)\n",
    "\n",
    "# Train logistic regression\n",
    "parameters = {'penalty': ['l1', 'l2']}\n",
    "model = LogisticRegression(solver='liblinear')\n",
    "clf = GridSearchCV(model, parameters)\n",
    "clf.fit(X_train_pca, y_train)\n",
    "print(clf.best_params_)\n",
    "\n",
    "# Test SVM\n",
    "y_pred = clf.predict(X_test_pca)\n",
    "accuracy = accuracy_score(y_test, y_pred)\n",
    "print(f\"Accuracy: {accuracy:.2f}\")"
   ]
  },
  {
   "cell_type": "markdown",
   "metadata": {},
   "source": [
    "## Train a model (SVM)"
   ]
  },
  {
   "cell_type": "code",
   "execution_count": 8,
   "metadata": {},
   "outputs": [
    {
     "name": "stdout",
     "output_type": "stream",
     "text": [
      "{'C': 0.1, 'kernel': 'linear'}\n",
      "Accuracy: 0.64\n"
     ]
    }
   ],
   "source": [
    "X = ex_features.drop('label', axis=1)\n",
    "y = ex_features['label']\n",
    "\n",
    "X_train, X_test, y_train, y_test = train_test_split(X, y, test_size=test_size, random_state=RANDOM_STATE)\n",
    "\n",
    "# Normalize features\n",
    "scaler = StandardScaler()\n",
    "X_train = scaler.fit_transform(X_train)\n",
    "X_test = scaler.transform(X_test)\n",
    "\n",
    "# Train SVM\n",
    "parameters = {'C': [0.1, 1, 10, 100, 1000], 'kernel': ['linear', 'rbf', 'sigmoid']}\n",
    "svm = SVC()\n",
    "clf = GridSearchCV(svm, parameters)\n",
    "clf.fit(X_train, y_train)\n",
    "print(clf.best_params_)\n",
    "\n",
    "# Test SVM\n",
    "y_pred = clf.predict(X_test)\n",
    "accuracy = accuracy_score(y_test, y_pred)\n",
    "print(f\"Accuracy: {accuracy:.2f}\")"
   ]
  },
  {
   "cell_type": "markdown",
   "metadata": {},
   "source": [
    "#### With PCA"
   ]
  },
  {
   "cell_type": "code",
   "execution_count": 9,
   "metadata": {},
   "outputs": [
    {
     "name": "stdout",
     "output_type": "stream",
     "text": [
      "{'C': 10, 'kernel': 'sigmoid'}\n",
      "Accuracy: 0.56\n"
     ]
    }
   ],
   "source": [
    "X = ex_features.drop('label', axis=1)\n",
    "y = ex_features['label']\n",
    "\n",
    "X_train, X_test, y_train, y_test = train_test_split(X, y, test_size=test_size, random_state=RANDOM_STATE)\n",
    "\n",
    "# Normalize features\n",
    "scaler = StandardScaler()\n",
    "X_train = scaler.fit_transform(X_train)\n",
    "X_test = scaler.transform(X_test)\n",
    "\n",
    "pca = PCA(n_components=nb_pca_components)\n",
    "X_train_pca = pca.fit_transform(X_train)\n",
    "X_test_pca = pca.transform(X_test)\n",
    "\n",
    "# Train SVM\n",
    "parameters = {'C': [0.1, 1, 10, 100, 1000], 'kernel': ['linear', 'rbf', 'sigmoid']}\n",
    "svm = SVC()\n",
    "clf = GridSearchCV(svm, parameters)\n",
    "clf.fit(X_train_pca, y_train)\n",
    "print(clf.best_params_)\n",
    "\n",
    "# Test SVM\n",
    "y_pred = clf.predict(X_test_pca)\n",
    "accuracy = accuracy_score(y_test, y_pred)\n",
    "print(f\"Accuracy: {accuracy:.2f}\")"
   ]
  },
  {
   "cell_type": "markdown",
   "metadata": {},
   "source": [
    "## Train a model (Random Forest)"
   ]
  },
  {
   "cell_type": "code",
   "execution_count": 10,
   "metadata": {},
   "outputs": [
    {
     "name": "stdout",
     "output_type": "stream",
     "text": [
      "{'max_depth': 25, 'n_estimators': 130}\n",
      "Accuracy: 0.64\n"
     ]
    }
   ],
   "source": [
    "X = ex_features.drop('label', axis=1)\n",
    "y = ex_features['label']\n",
    "\n",
    "X_train, X_test, y_train, y_test = train_test_split(X, y, test_size=test_size, random_state=RANDOM_STATE)\n",
    "\n",
    "# Normalize features\n",
    "scaler = StandardScaler()\n",
    "X_train = scaler.fit_transform(X_train)\n",
    "X_test = scaler.transform(X_test)\n",
    "\n",
    "# Train Random Forest\n",
    "n_estimators = [10, 50, 90, 130]\n",
    "max_depth = [10, 25, 50]\n",
    "param_grid = {'n_estimators': n_estimators, 'max_depth': max_depth}\n",
    "\n",
    "rf = RandomForestClassifier() \n",
    "clf = GridSearchCV(rf, param_grid)\n",
    "clf.fit(X_train, y_train)\n",
    "print(clf.best_params_)\n",
    "\n",
    "# Test Random Forest\n",
    "y_pred = clf.predict(X_test)\n",
    "accuracy = accuracy_score(y_test, y_pred)\n",
    "print(f\"Accuracy: {accuracy:.2f}\")\n"
   ]
  },
  {
   "cell_type": "markdown",
   "metadata": {},
   "source": [
    "## Observation"
   ]
  },
  {
   "cell_type": "code",
   "execution_count": 11,
   "metadata": {},
   "outputs": [
    {
     "name": "stderr",
     "output_type": "stream",
     "text": [
      "100%|██████████| 40/40 [00:01<00:00, 22.24it/s]\n",
      "100%|██████████| 40/40 [00:01<00:00, 26.23it/s]\n",
      "100%|██████████| 40/40 [00:02<00:00, 17.78it/s]\n",
      "100%|██████████| 40/40 [00:02<00:00, 17.90it/s]\n",
      "100%|██████████| 40/40 [00:02<00:00, 18.45it/s]\n",
      "100%|██████████| 40/40 [00:01<00:00, 26.38it/s]\n",
      "100%|██████████| 40/40 [00:01<00:00, 29.42it/s]]\n",
      "100%|██████████| 40/40 [00:01<00:00, 30.77it/s]]\n",
      "100%|██████████| 40/40 [00:02<00:00, 17.70it/s]]\n",
      "100%|██████████| 40/40 [00:01<00:00, 23.46it/s]]\n",
      "100%|██████████| 40/40 [00:02<00:00, 18.27it/s]]\n",
      "100%|██████████| 40/40 [00:01<00:00, 27.20it/s]]\n",
      "100%|██████████| 40/40 [00:01<00:00, 29.18it/s]]\n",
      "100%|██████████| 40/40 [00:01<00:00, 31.00it/s]]\n",
      "100%|██████████| 40/40 [00:02<00:00, 16.44it/s]]\n",
      "100%|██████████| 40/40 [00:01<00:00, 25.92it/s]]\n",
      "100%|██████████| 40/40 [00:01<00:00, 22.67it/s]]\n",
      "100%|██████████| 40/40 [00:01<00:00, 27.87it/s]]\n",
      "100%|██████████| 40/40 [00:01<00:00, 24.51it/s]]\n",
      "100%|██████████| 40/40 [00:01<00:00, 27.72it/s]]\n",
      "100%|██████████| 40/40 [00:01<00:00, 22.05it/s]]\n",
      "100%|██████████| 40/40 [00:02<00:00, 18.97it/s]]\n",
      "100%|██████████| 40/40 [00:02<00:00, 18.38it/s]]\n",
      "100%|██████████| 40/40 [00:01<00:00, 30.32it/s]]\n",
      "100%|██████████| 40/40 [00:01<00:00, 27.20it/s]]\n",
      "100%|██████████| 40/40 [00:02<00:00, 17.56it/s]]\n",
      "100%|██████████| 40/40 [00:02<00:00, 17.65it/s]]\n",
      "100%|██████████| 40/40 [00:01<00:00, 27.53it/s]]\n",
      "100%|██████████| 40/40 [00:01<00:00, 30.17it/s]]\n",
      "100%|██████████| 40/40 [00:01<00:00, 21.25it/s]]\n",
      "100%|██████████| 40/40 [00:02<00:00, 17.68it/s]]\n",
      "100%|██████████| 40/40 [00:01<00:00, 27.01it/s]]\n",
      "100%|██████████| 40/40 [00:02<00:00, 17.34it/s]]\n",
      "100%|██████████| 40/40 [00:01<00:00, 20.02it/s]]\n",
      "100%|██████████| 40/40 [00:01<00:00, 28.62it/s]]\n",
      "100%|██████████| 40/40 [00:02<00:00, 19.07it/s]]\n",
      "100%|██████████| 40/40 [00:01<00:00, 27.21it/s]]\n",
      "100%|██████████| 40/40 [00:01<00:00, 30.49it/s]]\n",
      "100%|██████████| 40/40 [00:01<00:00, 31.81it/s]]\n",
      "100%|██████████| 40/40 [00:01<00:00, 28.17it/s]]\n",
      "100%|██████████| 40/40 [00:01<00:00, 29.20it/s]]\n",
      "100%|██████████| 40/40 [00:01<00:00, 27.76it/s]]\n",
      "100%|██████████| 40/40 [00:02<00:00, 18.44it/s]]\n",
      "100%|██████████| 40/40 [00:01<00:00, 28.61it/s]]\n",
      "100%|██████████| 40/40 [00:01<00:00, 22.83it/s]]\n",
      "100%|██████████| 40/40 [00:01<00:00, 27.09it/s]]\n",
      "100%|██████████| 40/40 [00:02<00:00, 18.75it/s]]\n",
      "100%|██████████| 40/40 [00:02<00:00, 18.62it/s]]\n",
      "100%|██████████| 40/40 [00:02<00:00, 18.86it/s]]\n",
      "100%|██████████| 40/40 [00:01<00:00, 28.47it/s]]\n",
      "100%|██████████| 40/40 [00:01<00:00, 27.13it/s]]\n",
      "100%|██████████| 40/40 [00:01<00:00, 30.71it/s]s]\n",
      "100%|██████████| 40/40 [00:01<00:00, 28.31it/s]s]\n",
      "100%|██████████| 40/40 [00:02<00:00, 18.76it/s]s]\n",
      "100%|██████████| 40/40 [00:01<00:00, 25.86it/s]t]\n",
      "100%|██████████| 40/40 [00:01<00:00, 28.69it/s]s]\n",
      "100%|██████████| 40/40 [00:01<00:00, 20.13it/s]t]\n",
      "100%|██████████| 40/40 [00:01<00:00, 28.25it/s]t]\n",
      "100%|██████████| 40/40 [00:02<00:00, 19.88it/s]s]\n",
      "100%|██████████| 40/40 [00:02<00:00, 18.63it/s]s]\n",
      "100%|██████████| 40/40 [00:01<00:00, 30.12it/s]s]\n",
      "100%|██████████| 40/40 [00:01<00:00, 27.08it/s]s]\n",
      "100%|██████████| 40/40 [00:02<00:00, 18.84it/s]s]\n",
      "100%|██████████| 40/40 [00:01<00:00, 32.04it/s]s]\n",
      "100%|██████████| 40/40 [00:02<00:00, 19.80it/s]s]\n",
      "100%|██████████| 40/40 [00:01<00:00, 29.32it/s]s]\n",
      "100%|██████████| 40/40 [00:01<00:00, 22.50it/s]s]\n",
      "100%|██████████| 40/40 [00:01<00:00, 27.55it/s]s]\n",
      "100%|██████████| 40/40 [00:01<00:00, 27.18it/s]s]\n",
      "100%|██████████| 40/40 [00:02<00:00, 19.98it/s]s]\n",
      "100%|██████████| 40/40 [00:01<00:00, 26.14it/s]s]\n",
      "100%|██████████| 40/40 [00:01<00:00, 31.66it/s]s]\n",
      "100%|██████████| 40/40 [00:01<00:00, 29.69it/s]s]\n",
      "100%|██████████| 40/40 [00:01<00:00, 29.81it/s]s]\n",
      "100%|██████████| 40/40 [00:01<00:00, 28.95it/s]s]\n",
      "100%|██████████| 40/40 [00:02<00:00, 19.20it/s]s]\n",
      "100%|██████████| 40/40 [00:02<00:00, 18.88it/s]s]\n",
      "100%|██████████| 40/40 [00:01<00:00, 28.69it/s]s]\n",
      "100%|██████████| 40/40 [00:01<00:00, 24.89it/s]t]\n",
      "100%|██████████| 40/40 [00:01<00:00, 24.54it/s]s]\n",
      "100%|██████████| 40/40 [00:02<00:00, 19.53it/s]s]\n",
      "100%|██████████| 40/40 [00:01<00:00, 31.27it/s]s]\n",
      "100%|██████████| 40/40 [00:01<00:00, 29.47it/s]t]\n",
      "100%|██████████| 40/40 [00:01<00:00, 28.70it/s]t]\n",
      "100%|██████████| 40/40 [00:01<00:00, 30.79it/s]s]\n",
      "100%|██████████| 40/40 [00:01<00:00, 27.63it/s]s]\n",
      "100%|██████████| 40/40 [00:01<00:00, 28.36it/s]s]\n",
      "100%|██████████| 40/40 [00:01<00:00, 28.04it/s]s]\n",
      "100%|██████████| 40/40 [00:01<00:00, 29.62it/s]s]\n",
      "100%|██████████| 40/40 [00:01<00:00, 31.10it/s]s]\n",
      "100%|██████████| 40/40 [00:02<00:00, 16.24it/s]s]\n",
      "100%|██████████| 40/40 [00:01<00:00, 29.11it/s]t]\n",
      "100%|██████████| 40/40 [00:01<00:00, 30.47it/s]s]\n",
      "100%|██████████| 40/40 [00:02<00:00, 18.02it/s]s]\n",
      "100%|██████████| 40/40 [00:01<00:00, 30.45it/s]t]\n",
      "100%|██████████| 40/40 [00:01<00:00, 20.12it/s]s]\n",
      "100%|██████████| 40/40 [00:01<00:00, 22.56it/s]t]\n",
      "100%|██████████| 40/40 [00:02<00:00, 19.96it/s]s]\n",
      "100%|██████████| 40/40 [00:01<00:00, 29.27it/s]t]\n",
      "100%|██████████| 40/40 [00:01<00:00, 27.44it/s]s]\n",
      "100%|██████████| 40/40 [00:02<00:00, 18.57it/s]s]\n",
      "100%|██████████| 40/40 [00:02<00:00, 17.86it/s]s]\n",
      "100%|██████████| 40/40 [00:02<00:00, 18.20it/s]s]\n",
      "100%|██████████| 40/40 [00:01<00:00, 29.38it/s]s]\n",
      "100%|██████████| 40/40 [00:01<00:00, 28.10it/s]s]\n",
      "100%|██████████| 40/40 [00:02<00:00, 18.24it/s]s]\n",
      "100%|██████████| 40/40 [00:01<00:00, 25.93it/s]s]\n",
      "100%|██████████| 40/40 [00:01<00:00, 30.21it/s]s]\n",
      "100%|██████████| 40/40 [00:02<00:00, 18.70it/s]s]\n",
      "100%|██████████| 40/40 [00:02<00:00, 17.41it/s]s]\n",
      "100%|██████████| 40/40 [00:01<00:00, 26.83it/s]s]\n",
      "100%|██████████| 40/40 [00:02<00:00, 16.40it/s]s]\n",
      "100%|██████████| 40/40 [00:01<00:00, 28.14it/s]t]\n",
      "100%|██████████| 40/40 [00:01<00:00, 24.15it/s]s]\n",
      "100%|██████████| 40/40 [00:01<00:00, 20.29it/s]s]\n",
      "100%|██████████| 40/40 [00:02<00:00, 19.16it/s]s]\n",
      "100%|██████████| 40/40 [00:01<00:00, 29.30it/s]t]\n",
      "100%|██████████| 40/40 [00:01<00:00, 22.63it/s]t]\n",
      "100%|██████████| 40/40 [00:01<00:00, 25.62it/s]t]\n",
      "100%|██████████| 40/40 [00:02<00:00, 19.64it/s]t]\n",
      "100%|██████████| 40/40 [00:01<00:00, 30.08it/s]t]\n",
      "100%|██████████| 40/40 [00:02<00:00, 17.27it/s]s]\n",
      "100%|██████████| 40/40 [00:01<00:00, 22.16it/s]s]\n",
      "100%|██████████| 40/40 [00:01<00:00, 31.21it/s]s]\n",
      "100%|██████████| 40/40 [00:02<00:00, 19.58it/s]t]\n",
      "100%|██████████| 40/40 [00:01<00:00, 27.81it/s]s]\n",
      "100%|██████████| 40/40 [00:02<00:00, 16.77it/s]s]\n",
      "100%|██████████| 40/40 [00:01<00:00, 25.55it/s]s]\n",
      "100%|██████████| 256/256 [03:38<00:00,  1.17it/s]\n"
     ]
    }
   ],
   "source": [
    "movtype = 'O'\n",
    "obs_features = participant.get_features_all_sessions_mvt(movtype)"
   ]
  },
  {
   "cell_type": "code",
   "execution_count": 12,
   "metadata": {},
   "outputs": [
    {
     "name": "stdout",
     "output_type": "stream",
     "text": [
      "The dataset contains 128 samples and 2881 features.\n"
     ]
    }
   ],
   "source": [
    "print(f'The dataset contains {obs_features.shape[0]} samples and {obs_features.shape[1]} features.')"
   ]
  },
  {
   "cell_type": "markdown",
   "metadata": {},
   "source": [
    "## Train a model (SVM)"
   ]
  },
  {
   "cell_type": "code",
   "execution_count": 13,
   "metadata": {},
   "outputs": [
    {
     "name": "stdout",
     "output_type": "stream",
     "text": [
      "{'C': 1, 'kernel': 'rbf'}\n",
      "Accuracy: 0.67\n"
     ]
    }
   ],
   "source": [
    "X = obs_features.drop('label', axis=1)\n",
    "y = obs_features['label']\n",
    "\n",
    "X_train, X_test, y_train, y_test = train_test_split(X, y, test_size=test_size, random_state=RANDOM_STATE)\n",
    "\n",
    "# Normalize features\n",
    "scaler = StandardScaler()\n",
    "X_train = scaler.fit_transform(X_train)\n",
    "X_test = scaler.transform(X_test)\n",
    "\n",
    "# Train SVM\n",
    "parameters = {'C': [0.1, 1, 10, 100, 1000], 'kernel': ['linear', 'rbf', 'sigmoid']}\n",
    "svm = SVC()\n",
    "clf = GridSearchCV(svm, parameters)\n",
    "clf.fit(X_train, y_train)\n",
    "print(clf.best_params_)\n",
    "\n",
    "# Test SVM\n",
    "y_pred = clf.predict(X_test)\n",
    "accuracy = accuracy_score(y_test, y_pred)\n",
    "print(f\"Accuracy: {accuracy:.2f}\")"
   ]
  },
  {
   "cell_type": "markdown",
   "metadata": {},
   "source": [
    "#### With PCA"
   ]
  },
  {
   "cell_type": "code",
   "execution_count": 14,
   "metadata": {},
   "outputs": [
    {
     "name": "stdout",
     "output_type": "stream",
     "text": [
      "{'C': 0.1, 'kernel': 'sigmoid'}\n",
      "Accuracy: 0.59\n"
     ]
    }
   ],
   "source": [
    "X = obs_features.drop('label', axis=1)\n",
    "y = obs_features['label']\n",
    "\n",
    "X_train, X_test, y_train, y_test = train_test_split(X, y, test_size=test_size, random_state=RANDOM_STATE)\n",
    "\n",
    "# Normalize features\n",
    "scaler = StandardScaler()\n",
    "X_train = scaler.fit_transform(X_train)\n",
    "X_test = scaler.transform(X_test)\n",
    "\n",
    "pca = PCA(n_components=nb_pca_components)\n",
    "X_train_pca = pca.fit_transform(X_train)\n",
    "X_test_pca = pca.transform(X_test)\n",
    "\n",
    "# Train SVM\n",
    "parameters = {'C': [0.1, 1, 10, 100, 1000], 'kernel': ['linear', 'rbf', 'sigmoid']}\n",
    "svm = SVC()\n",
    "clf = GridSearchCV(svm, parameters)\n",
    "clf.fit(X_train_pca, y_train)\n",
    "print(clf.best_params_)\n",
    "\n",
    "# Test SVM\n",
    "y_pred = clf.predict(X_test_pca)\n",
    "accuracy = accuracy_score(y_test, y_pred)\n",
    "print(f\"Accuracy: {accuracy:.2f}\")"
   ]
  },
  {
   "cell_type": "markdown",
   "metadata": {},
   "source": [
    "## Train a model (Random Forest)"
   ]
  },
  {
   "cell_type": "code",
   "execution_count": 15,
   "metadata": {},
   "outputs": [
    {
     "name": "stdout",
     "output_type": "stream",
     "text": [
      "{'max_depth': 50, 'n_estimators': 130}\n",
      "Accuracy: 0.64\n"
     ]
    }
   ],
   "source": [
    "X = obs_features.drop('label', axis=1)\n",
    "y = obs_features['label']\n",
    "\n",
    "X_train, X_test, y_train, y_test = train_test_split(X, y, test_size=test_size, random_state=RANDOM_STATE)\n",
    "\n",
    "# Normalize features\n",
    "scaler = StandardScaler()\n",
    "X_train = scaler.fit_transform(X_train)\n",
    "X_test = scaler.transform(X_test)\n",
    "\n",
    "# Train Random Forest\n",
    "n_estimators = [10, 50, 90, 130]\n",
    "max_depth = [10, 25, 50]\n",
    "param_grid = {'n_estimators': n_estimators, 'max_depth': max_depth}\n",
    "\n",
    "rf = RandomForestClassifier() \n",
    "clf = GridSearchCV(rf, param_grid)\n",
    "clf.fit(X_train, y_train)\n",
    "print(clf.best_params_)\n",
    "\n",
    "# Test Random Forest\n",
    "y_pred = clf.predict(X_test)\n",
    "accuracy = accuracy_score(y_test, y_pred)\n",
    "print(f\"Accuracy: {accuracy:.2f}\")\n"
   ]
  },
  {
   "cell_type": "code",
   "execution_count": null,
   "metadata": {},
   "outputs": [],
   "source": []
  }
 ],
 "metadata": {
  "kernelspec": {
   "display_name": "tne",
   "language": "python",
   "name": "python3"
  },
  "language_info": {
   "codemirror_mode": {
    "name": "ipython",
    "version": 3
   },
   "file_extension": ".py",
   "mimetype": "text/x-python",
   "name": "python",
   "nbconvert_exporter": "python",
   "pygments_lexer": "ipython3",
   "version": "3.12.7"
  }
 },
 "nbformat": 4,
 "nbformat_minor": 2
}
