{
 "cells": [
  {
   "cell_type": "code",
   "execution_count": 1,
   "metadata": {},
   "outputs": [],
   "source": [
    "from utils import *\n",
    "from dataset import *\n",
    "from constants import *\n",
    "from models.BaseModels import *\n",
    "\n",
    "from sklearn.svm import SVC\n",
    "from sklearn.linear_model import LogisticRegression\n",
    "from sklearn.decomposition import PCA\n",
    "from sklearn.model_selection import train_test_split, GridSearchCV\n",
    "from sklearn.preprocessing import StandardScaler\n",
    "from sklearn.metrics import accuracy_score\n",
    "from sklearn.ensemble import RandomForestClassifier\n",
    "\n",
    "from dataset import Participant\n",
    "\n",
    "random.seed(RANDOM_STATE)"
   ]
  },
  {
   "cell_type": "code",
   "execution_count": 2,
   "metadata": {},
   "outputs": [],
   "source": [
    "use_saved = True"
   ]
  },
  {
   "cell_type": "code",
   "execution_count": 3,
   "metadata": {},
   "outputs": [],
   "source": [
    "if use_saved:\n",
    "    participant = Participant.load_from_pickle('saved/s6.pkl')\n",
    "else:\n",
    "    participant = Participant('s6', data_path=DATA_PATH_NOTEBOOK, alpha=0.05)\n",
    "    with open('saved/s6.pkl', 'wb') as f:\n",
    "        pickle.dump(participant, f, pickle.HIGHEST_PROTOCOL)"
   ]
  },
  {
   "cell_type": "code",
   "execution_count": 4,
   "metadata": {},
   "outputs": [],
   "source": [
    "test_size = 0.3\n",
    "pca_expl_var = 0.95"
   ]
  },
  {
   "cell_type": "markdown",
   "metadata": {},
   "source": [
    "## Execution"
   ]
  },
  {
   "cell_type": "code",
   "execution_count": 5,
   "metadata": {},
   "outputs": [],
   "source": [
    "if use_saved:\n",
    "    ex_features = pd.read_hdf('saved/ex_features.h5', 'df')\n",
    "else:\n",
    "    ex_features = participant.get_features_all_sessions_mvt('E')\n",
    "    ex_features.to_hdf('saved/ex_features.h5', 'df', mode='w', data_columns=True)"
   ]
  },
  {
   "cell_type": "code",
   "execution_count": 7,
   "metadata": {},
   "outputs": [
    {
     "name": "stdout",
     "output_type": "stream",
     "text": [
      "The dataset contains 128 samples and 4897 features.\n",
      "The 68 relevant channels are located in the following locations:\n",
      "['WM_insula', 'WM_paracentral', 'WM_precentral', 'caudalmiddlefrontal', 'insula', 'paracentral', 'postcentral', 'precentral', 'superiorfrontal', 'supramarginal']\n"
     ]
    }
   ],
   "source": [
    "print(f'The dataset contains {ex_features.shape[0]} samples and {ex_features.shape[1]} features.')\n",
    "print(f'The {len(participant.relevant_channels_ex)} relevant channels are located in the following locations:')\n",
    "print(sorted(list(set([participant.channels_locations[i] for i in [channel.idx for channel in participant.relevant_channels_ex]]))))"
   ]
  },
  {
   "cell_type": "markdown",
   "metadata": {},
   "source": [
    "Let's create a baseline by taking the same number of channels, but without checking whether they are responsive:"
   ]
  },
  {
   "cell_type": "code",
   "execution_count": null,
   "metadata": {},
   "outputs": [
    {
     "name": "stderr",
     "output_type": "stream",
     "text": [
      "100%|██████████| 68/68 [00:04<00:00, 15.13it/s]\n",
      "100%|██████████| 68/68 [00:03<00:00, 22.53it/s]\n",
      "100%|██████████| 68/68 [00:02<00:00, 26.11it/s]\n",
      "100%|██████████| 68/68 [00:03<00:00, 18.76it/s]\n",
      "100%|██████████| 68/68 [00:03<00:00, 19.44it/s]\n",
      "100%|██████████| 68/68 [00:02<00:00, 25.40it/s]]\n",
      "100%|██████████| 68/68 [00:03<00:00, 21.37it/s]]\n",
      "100%|██████████| 68/68 [00:02<00:00, 24.64it/s]]\n",
      "100%|██████████| 68/68 [00:04<00:00, 15.41it/s]]\n",
      "100%|██████████| 68/68 [00:03<00:00, 17.18it/s]]\n",
      "100%|██████████| 68/68 [00:02<00:00, 28.25it/s]]\n",
      "100%|██████████| 68/68 [00:02<00:00, 24.87it/s]]\n",
      "100%|██████████| 68/68 [00:03<00:00, 20.08it/s]]\n",
      "100%|██████████| 68/68 [00:02<00:00, 23.87it/s]]\n",
      "100%|██████████| 68/68 [00:04<00:00, 14.42it/s]]\n",
      "100%|██████████| 68/68 [00:02<00:00, 22.89it/s]]\n",
      "100%|██████████| 68/68 [00:03<00:00, 21.01it/s]]\n",
      "100%|██████████| 68/68 [00:02<00:00, 25.05it/s]]\n",
      "100%|██████████| 68/68 [00:04<00:00, 16.35it/s]]\n",
      "100%|██████████| 68/68 [00:02<00:00, 25.97it/s]]\n",
      "100%|██████████| 68/68 [00:02<00:00, 27.93it/s]]\n",
      "100%|██████████| 68/68 [00:03<00:00, 18.66it/s]]\n",
      "100%|██████████| 68/68 [00:03<00:00, 17.21it/s]]\n",
      "100%|██████████| 68/68 [00:02<00:00, 26.61it/s]]\n",
      "100%|██████████| 68/68 [00:03<00:00, 18.99it/s]]\n",
      "100%|██████████| 68/68 [00:02<00:00, 28.36it/s]]\n",
      "100%|██████████| 68/68 [00:03<00:00, 17.29it/s]]\n",
      "100%|██████████| 68/68 [00:04<00:00, 16.86it/s]]\n",
      "100%|██████████| 68/68 [00:04<00:00, 14.54it/s]]\n",
      "100%|██████████| 68/68 [00:04<00:00, 15.49it/s]]\n",
      "100%|██████████| 68/68 [00:03<00:00, 19.16it/s]]\n",
      "100%|██████████| 68/68 [00:04<00:00, 16.43it/s]]\n",
      "100%|██████████| 68/68 [00:02<00:00, 23.35it/s]]\n",
      "100%|██████████| 68/68 [00:04<00:00, 16.15it/s]]\n",
      "100%|██████████| 68/68 [00:04<00:00, 16.84it/s]]\n",
      "100%|██████████| 68/68 [00:02<00:00, 26.91it/s]]\n",
      "100%|██████████| 68/68 [00:04<00:00, 14.62it/s]]\n",
      "100%|██████████| 68/68 [00:02<00:00, 25.68it/s]]\n",
      "100%|██████████| 68/68 [00:03<00:00, 22.06it/s]]\n",
      "100%|██████████| 68/68 [00:03<00:00, 22.02it/s]]\n",
      "100%|██████████| 68/68 [00:04<00:00, 15.92it/s]]\n",
      "100%|██████████| 68/68 [00:03<00:00, 20.31it/s]]\n",
      "100%|██████████| 68/68 [00:02<00:00, 27.60it/s]]\n",
      "100%|██████████| 68/68 [00:03<00:00, 22.12it/s]]\n",
      "100%|██████████| 68/68 [00:03<00:00, 21.19it/s]]\n",
      "100%|██████████| 68/68 [00:03<00:00, 19.29it/s]]\n",
      "100%|██████████| 68/68 [00:04<00:00, 16.59it/s]]\n",
      "100%|██████████| 68/68 [00:03<00:00, 17.77it/s]]\n",
      "100%|██████████| 68/68 [00:02<00:00, 30.20it/s]]\n",
      "100%|██████████| 68/68 [00:03<00:00, 18.26it/s]]\n",
      "100%|██████████| 68/68 [00:02<00:00, 30.41it/s]t]\n",
      "100%|██████████| 68/68 [00:04<00:00, 15.87it/s]t]\n",
      "100%|██████████| 68/68 [00:03<00:00, 17.52it/s]t]\n",
      "100%|██████████| 68/68 [00:03<00:00, 22.07it/s]t]\n",
      "100%|██████████| 68/68 [00:03<00:00, 18.26it/s]t]\n",
      "100%|██████████| 68/68 [00:04<00:00, 15.47it/s]t]\n",
      "100%|██████████| 68/68 [00:03<00:00, 20.63it/s]t]\n",
      "100%|██████████| 68/68 [00:03<00:00, 17.72it/s]t]\n",
      "100%|██████████| 68/68 [00:02<00:00, 23.95it/s]t]\n",
      "100%|██████████| 68/68 [00:02<00:00, 24.77it/s]t]\n",
      "100%|██████████| 68/68 [00:04<00:00, 15.58it/s]t]\n",
      "100%|██████████| 68/68 [00:03<00:00, 17.70it/s]t]\n",
      "100%|██████████| 68/68 [00:02<00:00, 26.45it/s]t]\n",
      "100%|██████████| 68/68 [00:02<00:00, 26.96it/s]t]\n",
      "100%|██████████| 68/68 [00:04<00:00, 15.99it/s]t]\n",
      "100%|██████████| 68/68 [00:03<00:00, 21.09it/s]t]\n",
      "100%|██████████| 68/68 [00:04<00:00, 16.76it/s]t]\n",
      "100%|██████████| 68/68 [00:03<00:00, 22.65it/s]t]\n",
      "100%|██████████| 68/68 [00:02<00:00, 29.61it/s]t]\n",
      "100%|██████████| 68/68 [00:02<00:00, 28.75it/s]t]\n",
      "100%|██████████| 68/68 [00:03<00:00, 18.04it/s]t]\n",
      "100%|██████████| 68/68 [00:03<00:00, 18.17it/s]t]\n",
      "100%|██████████| 68/68 [00:04<00:00, 16.50it/s]t]\n",
      "100%|██████████| 68/68 [00:02<00:00, 24.92it/s]t]\n",
      "100%|██████████| 68/68 [00:03<00:00, 18.48it/s]t]\n",
      "100%|██████████| 68/68 [00:03<00:00, 21.85it/s]t]\n",
      "100%|██████████| 68/68 [00:03<00:00, 18.51it/s]t]\n",
      "100%|██████████| 68/68 [00:03<00:00, 21.18it/s]t]\n",
      "100%|██████████| 68/68 [00:02<00:00, 24.53it/s]t]\n",
      "100%|██████████| 68/68 [00:03<00:00, 17.05it/s]t]\n",
      "100%|██████████| 68/68 [00:03<00:00, 21.80it/s]t]\n",
      "100%|██████████| 68/68 [00:02<00:00, 23.81it/s]t]\n",
      "100%|██████████| 68/68 [00:03<00:00, 17.67it/s]t]\n",
      "100%|██████████| 68/68 [00:03<00:00, 17.86it/s]t]\n",
      "100%|██████████| 68/68 [00:03<00:00, 21.86it/s]t]\n",
      "100%|██████████| 68/68 [00:03<00:00, 20.57it/s]t]\n",
      "100%|██████████| 68/68 [00:02<00:00, 29.23it/s]t]\n",
      "100%|██████████| 68/68 [00:01<00:00, 35.39it/s]t]\n",
      "100%|██████████| 68/68 [00:03<00:00, 18.18it/s]t]\n",
      "100%|██████████| 68/68 [00:03<00:00, 21.41it/s]t]\n",
      "100%|██████████| 68/68 [00:02<00:00, 29.30it/s]t]\n",
      "100%|██████████| 68/68 [00:03<00:00, 20.20it/s]t]\n",
      "100%|██████████| 68/68 [00:02<00:00, 25.74it/s]t]\n",
      "100%|██████████| 68/68 [00:04<00:00, 16.59it/s]t]\n",
      "100%|██████████| 68/68 [00:03<00:00, 19.15it/s]t]\n",
      "100%|██████████| 68/68 [00:02<00:00, 25.09it/s]t]\n",
      "100%|██████████| 68/68 [00:02<00:00, 31.68it/s]t]\n",
      "100%|██████████| 68/68 [00:02<00:00, 30.45it/s]t]\n",
      "100%|██████████| 68/68 [00:03<00:00, 18.43it/s]t]\n",
      "100%|██████████| 68/68 [00:04<00:00, 16.54it/s]t]\n",
      "100%|██████████| 68/68 [00:02<00:00, 33.01it/s]t]\n",
      "100%|██████████| 68/68 [00:02<00:00, 26.55it/s]t]\n",
      "100%|██████████| 68/68 [00:02<00:00, 27.85it/s]t]\n",
      "100%|██████████| 68/68 [00:02<00:00, 30.31it/s]t]\n",
      "100%|██████████| 68/68 [00:02<00:00, 30.57it/s]t]\n",
      "100%|██████████| 68/68 [00:02<00:00, 29.83it/s]t]\n",
      "100%|██████████| 68/68 [00:04<00:00, 16.04it/s]t]\n",
      "100%|██████████| 68/68 [00:02<00:00, 23.47it/s]t]\n",
      "100%|██████████| 68/68 [00:02<00:00, 25.64it/s]t]\n",
      "100%|██████████| 68/68 [00:02<00:00, 30.56it/s]t]\n",
      "100%|██████████| 68/68 [00:02<00:00, 25.47it/s]t]\n",
      "100%|██████████| 68/68 [00:03<00:00, 17.51it/s]t]\n",
      "100%|██████████| 68/68 [00:03<00:00, 20.83it/s]t]\n",
      "100%|██████████| 68/68 [00:02<00:00, 27.02it/s]t]\n",
      "100%|██████████| 68/68 [00:02<00:00, 28.17it/s]t]\n",
      "100%|██████████| 68/68 [00:02<00:00, 25.21it/s]t]\n",
      "100%|██████████| 68/68 [00:03<00:00, 17.41it/s]t]\n",
      "100%|██████████| 68/68 [00:03<00:00, 21.04it/s]t]\n",
      "100%|██████████| 68/68 [00:02<00:00, 25.51it/s]t]\n",
      "100%|██████████| 68/68 [00:03<00:00, 22.20it/s]t]\n",
      "100%|██████████| 68/68 [00:02<00:00, 23.96it/s]t]\n",
      "100%|██████████| 68/68 [00:04<00:00, 16.01it/s]t]\n",
      "100%|██████████| 68/68 [00:03<00:00, 18.50it/s]t]\n",
      "100%|██████████| 68/68 [00:02<00:00, 24.40it/s]t]\n",
      "100%|██████████| 68/68 [00:02<00:00, 26.53it/s]t]\n",
      "100%|██████████| 68/68 [00:01<00:00, 34.54it/s]t]\n",
      "100%|██████████| 68/68 [00:03<00:00, 21.70it/s]t]\n",
      "100%|██████████| 68/68 [00:02<00:00, 26.93it/s]t]\n",
      "100%|██████████| 256/256 [06:54<00:00,  1.62s/it]\n"
     ]
    }
   ],
   "source": [
    "baseline_features = participant.get_features_all_sessions_rnd(len(participant.relevant_channels_ex), movtype='E')"
   ]
  },
  {
   "cell_type": "code",
   "execution_count": null,
   "metadata": {},
   "outputs": [
    {
     "name": "stdout",
     "output_type": "stream",
     "text": [
      "The baseline dataset contains 128 samples and 4897 features.\n"
     ]
    }
   ],
   "source": [
    "print(f'The baseline dataset contains {baseline_features.shape[0]} samples and {baseline_features.shape[1]} features.')"
   ]
  },
  {
   "cell_type": "markdown",
   "metadata": {},
   "source": [
    "### Train a model on the baseline features (Logistic Regression)"
   ]
  },
  {
   "cell_type": "code",
   "execution_count": null,
   "metadata": {},
   "outputs": [
    {
     "name": "stdout",
     "output_type": "stream",
     "text": [
      "Accuracy: 0.85\n"
     ]
    }
   ],
   "source": [
    "X = baseline_features.drop('label', axis=1)\n",
    "y = baseline_features['label']\n",
    "\n",
    "X_train, X_test, y_train, y_test = train_test_split(X, y, test_size=test_size, random_state=RANDOM_STATE)\n",
    "\n",
    "logreg = LogisticRegressionModel()\n",
    "logreg.fit(X_train, y_train)\n",
    "y_pred = logreg.predict(X_test)\n",
    "accuracy = accuracy_score(y_test, y_pred)\n",
    "print(f\"Accuracy: {accuracy:.2f}\")"
   ]
  },
  {
   "cell_type": "markdown",
   "metadata": {},
   "source": [
    "## Let's now do the analysis for the responsive channels"
   ]
  },
  {
   "cell_type": "code",
   "execution_count": 9,
   "metadata": {},
   "outputs": [],
   "source": [
    "X = ex_features.drop('label', axis=1)\n",
    "y = ex_features['label']\n",
    "\n",
    "X_train, X_test, y_train, y_test = train_test_split(X, y, test_size=test_size, random_state=RANDOM_STATE)"
   ]
  },
  {
   "cell_type": "markdown",
   "metadata": {},
   "source": [
    "### Train a model (Logistic Regression)"
   ]
  },
  {
   "cell_type": "code",
   "execution_count": 10,
   "metadata": {},
   "outputs": [
    {
     "name": "stdout",
     "output_type": "stream",
     "text": [
      "Accuracy: 0.77\n"
     ]
    }
   ],
   "source": [
    "logreg = LogisticRegressionModel()\n",
    "logreg.fit(X_train, y_train)\n",
    "y_pred = logreg.predict(X_test)\n",
    "accuracy = accuracy_score(y_test, y_pred)\n",
    "print(f\"Accuracy: {accuracy:.2f}\")"
   ]
  },
  {
   "cell_type": "markdown",
   "metadata": {},
   "source": [
    "#### With PCA"
   ]
  },
  {
   "cell_type": "code",
   "execution_count": 11,
   "metadata": {},
   "outputs": [
    {
     "name": "stdout",
     "output_type": "stream",
     "text": [
      "Accuracy: 0.69\n"
     ]
    }
   ],
   "source": [
    "logreg = LogisticRegressionModel(use_pca=True, expl_var=0.95)\n",
    "logreg.fit(X_train, y_train)\n",
    "y_pred = logreg.predict(X_test)\n",
    "accuracy = accuracy_score(y_test, y_pred)\n",
    "print(f\"Accuracy: {accuracy:.2f}\")"
   ]
  },
  {
   "cell_type": "markdown",
   "metadata": {},
   "source": [
    "### Train a model (SVM)"
   ]
  },
  {
   "cell_type": "code",
   "execution_count": 12,
   "metadata": {},
   "outputs": [
    {
     "name": "stdout",
     "output_type": "stream",
     "text": [
      "Accuracy: 0.62\n"
     ]
    }
   ],
   "source": [
    "svm = SVMModel()\n",
    "svm.fit(X_train, y_train)\n",
    "y_pred = svm.predict(X_test)\n",
    "accuracy = accuracy_score(y_test, y_pred)\n",
    "print(f\"Accuracy: {accuracy:.2f}\")"
   ]
  },
  {
   "cell_type": "markdown",
   "metadata": {},
   "source": [
    "#### With PCA"
   ]
  },
  {
   "cell_type": "code",
   "execution_count": 14,
   "metadata": {},
   "outputs": [
    {
     "name": "stdout",
     "output_type": "stream",
     "text": [
      "Accuracy: 0.51\n"
     ]
    }
   ],
   "source": [
    "svm = SVMModel(use_pca=True, expl_var=0.95)\n",
    "svm.fit(X_train, y_train)\n",
    "y_pred = svm.predict(X_test)\n",
    "accuracy = accuracy_score(y_test, y_pred)\n",
    "print(f\"Accuracy: {accuracy:.2f}\")"
   ]
  },
  {
   "cell_type": "markdown",
   "metadata": {},
   "source": [
    "### Train a model (Random Forest)"
   ]
  },
  {
   "cell_type": "code",
   "execution_count": 15,
   "metadata": {},
   "outputs": [
    {
     "name": "stdout",
     "output_type": "stream",
     "text": [
      "Accuracy: 0.54\n"
     ]
    }
   ],
   "source": [
    "svm = RandomForestModel()\n",
    "svm.fit(X_train, y_train)\n",
    "y_pred = svm.predict(X_test)\n",
    "accuracy = accuracy_score(y_test, y_pred)\n",
    "print(f\"Accuracy: {accuracy:.2f}\")"
   ]
  },
  {
   "cell_type": "markdown",
   "metadata": {},
   "source": [
    "## Observation"
   ]
  },
  {
   "cell_type": "code",
   "execution_count": null,
   "metadata": {},
   "outputs": [
    {
     "name": "stderr",
     "output_type": "stream",
     "text": [
      "100%|██████████| 51/51 [00:03<00:00, 14.79it/s]\n",
      "100%|██████████| 51/51 [00:02<00:00, 19.41it/s]\n",
      "100%|██████████| 51/51 [00:04<00:00, 12.15it/s]\n",
      "100%|██████████| 51/51 [00:03<00:00, 16.93it/s]\n",
      "100%|██████████| 51/51 [00:03<00:00, 16.81it/s]\n",
      "100%|██████████| 51/51 [00:02<00:00, 20.05it/s]\n",
      "100%|██████████| 51/51 [00:02<00:00, 23.71it/s]]\n",
      "100%|██████████| 51/51 [00:02<00:00, 22.41it/s]]\n",
      "100%|██████████| 51/51 [00:03<00:00, 13.51it/s]]\n",
      "100%|██████████| 51/51 [00:02<00:00, 17.20it/s]]\n",
      "100%|██████████| 51/51 [00:03<00:00, 14.76it/s]]\n",
      "100%|██████████| 51/51 [00:02<00:00, 22.37it/s]]\n",
      "100%|██████████| 51/51 [00:02<00:00, 23.64it/s]]\n",
      "100%|██████████| 51/51 [00:02<00:00, 22.34it/s]]\n",
      "100%|██████████| 51/51 [00:03<00:00, 13.45it/s]]\n",
      "100%|██████████| 51/51 [00:02<00:00, 20.16it/s]]\n",
      "100%|██████████| 51/51 [00:02<00:00, 18.51it/s]]\n",
      "100%|██████████| 51/51 [00:02<00:00, 22.31it/s]]\n",
      "100%|██████████| 51/51 [00:02<00:00, 17.97it/s]]\n",
      "100%|██████████| 51/51 [00:02<00:00, 20.70it/s]]\n",
      "100%|██████████| 51/51 [00:02<00:00, 20.73it/s]]\n",
      "100%|██████████| 51/51 [00:02<00:00, 17.09it/s]]\n",
      "100%|██████████| 51/51 [00:03<00:00, 16.82it/s]]\n",
      "100%|██████████| 51/51 [00:01<00:00, 29.46it/s]]\n",
      "100%|██████████| 51/51 [00:02<00:00, 23.55it/s]]\n",
      "100%|██████████| 51/51 [00:03<00:00, 16.08it/s]]\n",
      "100%|██████████| 51/51 [00:03<00:00, 15.74it/s]]\n",
      "100%|██████████| 51/51 [00:02<00:00, 25.19it/s]]\n",
      "100%|██████████| 51/51 [00:01<00:00, 33.22it/s]]\n",
      "100%|██████████| 51/51 [00:02<00:00, 19.27it/s]]\n",
      "100%|██████████| 51/51 [00:03<00:00, 16.25it/s]]\n",
      "100%|██████████| 51/51 [00:02<00:00, 24.64it/s]]\n",
      "100%|██████████| 51/51 [00:03<00:00, 16.39it/s]]\n",
      "100%|██████████| 51/51 [00:02<00:00, 18.16it/s]]\n",
      "100%|██████████| 51/51 [00:01<00:00, 26.73it/s]]\n",
      "100%|██████████| 51/51 [00:03<00:00, 15.43it/s]]\n",
      "100%|██████████| 51/51 [00:02<00:00, 24.23it/s]]\n",
      "100%|██████████| 51/51 [00:01<00:00, 27.56it/s]]\n",
      "100%|██████████| 51/51 [00:01<00:00, 31.73it/s]]\n",
      "100%|██████████| 51/51 [00:02<00:00, 21.75it/s]]\n",
      "100%|██████████| 51/51 [00:01<00:00, 26.64it/s]]\n",
      "100%|██████████| 51/51 [00:02<00:00, 25.35it/s]]\n",
      "100%|██████████| 51/51 [00:03<00:00, 16.41it/s]]\n",
      "100%|██████████| 51/51 [00:01<00:00, 25.52it/s]]\n",
      "100%|██████████| 51/51 [00:02<00:00, 20.99it/s]]\n",
      "100%|██████████| 51/51 [00:02<00:00, 23.37it/s]]\n",
      "100%|██████████| 51/51 [00:02<00:00, 17.60it/s]]\n",
      "100%|██████████| 51/51 [00:02<00:00, 17.75it/s]]\n",
      "100%|██████████| 51/51 [00:03<00:00, 14.99it/s]]\n",
      "100%|██████████| 51/51 [00:02<00:00, 23.94it/s]]\n",
      "100%|██████████| 51/51 [00:02<00:00, 25.14it/s]]\n",
      "100%|██████████| 51/51 [00:01<00:00, 28.24it/s]t]\n",
      "100%|██████████| 51/51 [00:01<00:00, 26.16it/s]t]\n",
      "100%|██████████| 51/51 [00:02<00:00, 18.71it/s]t]\n",
      "100%|██████████| 51/51 [00:02<00:00, 23.97it/s]t]\n",
      "100%|██████████| 51/51 [00:02<00:00, 22.95it/s]t]\n",
      "100%|██████████| 51/51 [00:03<00:00, 16.17it/s]t]\n",
      "100%|██████████| 51/51 [00:02<00:00, 22.61it/s]t]\n",
      "100%|██████████| 51/51 [00:02<00:00, 17.79it/s]t]\n",
      "100%|██████████| 51/51 [00:03<00:00, 16.63it/s]t]\n",
      "100%|██████████| 51/51 [00:02<00:00, 24.30it/s]t]\n",
      "100%|██████████| 51/51 [00:02<00:00, 21.54it/s]t]\n",
      "100%|██████████| 51/51 [00:03<00:00, 16.38it/s]t]\n",
      "100%|██████████| 51/51 [00:01<00:00, 28.41it/s]t]\n",
      "100%|██████████| 51/51 [00:03<00:00, 16.78it/s]s]\n",
      "100%|██████████| 51/51 [00:01<00:00, 25.54it/s]s]\n",
      "100%|██████████| 51/51 [00:02<00:00, 20.51it/s]s]\n",
      "100%|██████████| 51/51 [00:01<00:00, 25.70it/s]s]\n",
      "100%|██████████| 51/51 [00:02<00:00, 23.63it/s]t]\n",
      "100%|██████████| 51/51 [00:02<00:00, 17.79it/s]s]\n",
      "100%|██████████| 51/51 [00:02<00:00, 23.10it/s]s]\n",
      "100%|██████████| 51/51 [00:01<00:00, 28.43it/s]s]\n",
      "100%|██████████| 51/51 [00:01<00:00, 25.57it/s]s]\n",
      "100%|██████████| 51/51 [00:02<00:00, 24.11it/s]s]\n",
      "100%|██████████| 51/51 [00:02<00:00, 23.39it/s]s]\n",
      "100%|██████████| 51/51 [00:03<00:00, 16.68it/s]t]\n",
      "100%|██████████| 51/51 [00:03<00:00, 15.69it/s]t]\n",
      "100%|██████████| 51/51 [00:02<00:00, 23.97it/s]t]\n",
      "100%|██████████| 51/51 [00:02<00:00, 17.09it/s]t]\n",
      "100%|██████████| 51/51 [00:02<00:00, 22.23it/s]t]\n",
      "100%|██████████| 51/51 [00:02<00:00, 18.16it/s]t]\n",
      "100%|██████████| 51/51 [00:01<00:00, 26.44it/s]t]\n",
      "100%|██████████| 51/51 [00:01<00:00, 26.32it/s]t]\n",
      "100%|██████████| 51/51 [00:01<00:00, 26.58it/s]t]\n",
      "100%|██████████| 51/51 [00:01<00:00, 26.28it/s]t]\n",
      "100%|██████████| 51/51 [00:02<00:00, 25.45it/s]t]\n",
      "100%|██████████| 51/51 [00:02<00:00, 21.66it/s]t]\n",
      "100%|██████████| 51/51 [00:02<00:00, 23.00it/s]s]\n",
      "100%|██████████| 51/51 [00:01<00:00, 25.80it/s]s]\n",
      "100%|██████████| 51/51 [00:01<00:00, 27.01it/s]s]\n",
      "100%|██████████| 51/51 [00:03<00:00, 13.57it/s]t]\n",
      "100%|██████████| 51/51 [00:01<00:00, 25.74it/s]t]\n",
      "100%|██████████| 51/51 [00:01<00:00, 27.35it/s]t]\n",
      "100%|██████████| 51/51 [00:02<00:00, 17.28it/s]t]\n",
      "100%|██████████| 51/51 [00:01<00:00, 27.60it/s]t]\n",
      "100%|██████████| 51/51 [00:02<00:00, 17.89it/s]t]\n",
      "100%|██████████| 51/51 [00:02<00:00, 20.76it/s]t]\n",
      "100%|██████████| 51/51 [00:02<00:00, 18.49it/s]t]\n",
      "100%|██████████| 51/51 [00:02<00:00, 25.46it/s]t]\n",
      "100%|██████████| 51/51 [00:02<00:00, 23.39it/s]t]\n",
      "100%|██████████| 51/51 [00:03<00:00, 16.24it/s]t]\n",
      "100%|██████████| 51/51 [00:03<00:00, 15.94it/s]t]\n",
      "100%|██████████| 51/51 [00:03<00:00, 16.41it/s]t]\n",
      "100%|██████████| 51/51 [00:02<00:00, 24.40it/s]t]\n",
      "100%|██████████| 51/51 [00:01<00:00, 25.68it/s]t]\n",
      "100%|██████████| 51/51 [00:03<00:00, 16.59it/s]t]\n",
      "100%|██████████| 51/51 [00:02<00:00, 23.79it/s]t]\n",
      "100%|██████████| 51/51 [00:01<00:00, 27.00it/s]t]\n",
      "100%|██████████| 51/51 [00:02<00:00, 17.46it/s]t]\n",
      "100%|██████████| 51/51 [00:03<00:00, 16.47it/s]t]\n",
      "100%|██████████| 51/51 [00:02<00:00, 23.15it/s]t]\n",
      "100%|██████████| 51/51 [00:03<00:00, 13.50it/s]t]\n",
      "100%|██████████| 51/51 [00:02<00:00, 24.93it/s]t]\n",
      "100%|██████████| 51/51 [00:02<00:00, 22.10it/s]t]\n",
      "100%|██████████| 51/51 [00:03<00:00, 16.86it/s]t]\n",
      "100%|██████████| 51/51 [00:02<00:00, 17.46it/s]t]\n",
      "100%|██████████| 51/51 [00:01<00:00, 26.23it/s]t]\n",
      "100%|██████████| 51/51 [00:02<00:00, 19.48it/s]t]\n",
      "100%|██████████| 51/51 [00:02<00:00, 23.88it/s]t]\n",
      "100%|██████████| 51/51 [00:02<00:00, 18.29it/s]t]\n",
      "100%|██████████| 51/51 [00:01<00:00, 27.88it/s]t]\n",
      "100%|██████████| 51/51 [00:02<00:00, 17.54it/s]t]\n",
      "100%|██████████| 51/51 [00:02<00:00, 19.30it/s]t]\n",
      "100%|██████████| 51/51 [00:02<00:00, 25.05it/s]t]\n",
      "100%|██████████| 51/51 [00:03<00:00, 16.57it/s]t]\n",
      "100%|██████████| 51/51 [00:01<00:00, 25.73it/s]t]\n",
      "100%|██████████| 51/51 [00:03<00:00, 15.64it/s]t]\n",
      "100%|██████████| 51/51 [00:02<00:00, 21.47it/s]t]\n",
      "100%|██████████| 256/256 [05:21<00:00,  1.26s/it]\n"
     ]
    }
   ],
   "source": [
    "if use_saved:\n",
    "    obs_features = pd.read_hdf('saved/obs_features.h5', 'df')\n",
    "else:\n",
    "    obs_features = participant.get_features_all_sessions_mvt('O')\n",
    "    obs_features.to_hdf('saved/obs_features.h5', 'df', mode='w', data_columns=True)"
   ]
  },
  {
   "cell_type": "code",
   "execution_count": null,
   "metadata": {},
   "outputs": [
    {
     "name": "stdout",
     "output_type": "stream",
     "text": [
      "The dataset contains 128 samples and 2881 features.\n"
     ]
    }
   ],
   "source": [
    "print(f'The dataset contains {obs_features.shape[0]} samples and {obs_features.shape[1]} features.')"
   ]
  },
  {
   "cell_type": "markdown",
   "metadata": {},
   "source": [
    "## Train a model (SVM)"
   ]
  },
  {
   "cell_type": "code",
   "execution_count": null,
   "metadata": {},
   "outputs": [
    {
     "name": "stdout",
     "output_type": "stream",
     "text": [
      "{'C': 1, 'kernel': 'rbf'}\n",
      "Accuracy: 0.67\n"
     ]
    }
   ],
   "source": [
    "X = obs_features.drop('label', axis=1)\n",
    "y = obs_features['label']\n",
    "\n",
    "X_train, X_test, y_train, y_test = train_test_split(X, y, test_size=test_size, random_state=RANDOM_STATE)\n",
    "\n",
    "# Normalize features\n",
    "scaler = StandardScaler()\n",
    "X_train = scaler.fit_transform(X_train)\n",
    "X_test = scaler.transform(X_test)\n",
    "\n",
    "# Train SVM\n",
    "parameters = {'C': [0.1, 1, 10, 100, 1000], 'kernel': ['linear', 'rbf', 'sigmoid']}\n",
    "svm = SVC()\n",
    "clf = GridSearchCV(svm, parameters)\n",
    "clf.fit(X_train, y_train)\n",
    "print(clf.best_params_)\n",
    "\n",
    "# Test SVM\n",
    "y_pred = clf.predict(X_test)\n",
    "accuracy = accuracy_score(y_test, y_pred)\n",
    "print(f\"Accuracy: {accuracy:.2f}\")"
   ]
  },
  {
   "cell_type": "markdown",
   "metadata": {},
   "source": [
    "#### With PCA"
   ]
  },
  {
   "cell_type": "code",
   "execution_count": null,
   "metadata": {},
   "outputs": [
    {
     "name": "stdout",
     "output_type": "stream",
     "text": [
      "{'C': 0.1, 'kernel': 'sigmoid'}\n",
      "Accuracy: 0.59\n"
     ]
    }
   ],
   "source": [
    "X = obs_features.drop('label', axis=1)\n",
    "y = obs_features['label']\n",
    "\n",
    "X_train, X_test, y_train, y_test = train_test_split(X, y, test_size=test_size, random_state=RANDOM_STATE)\n",
    "\n",
    "svm = \n",
    "\n",
    "# Normalize features\n",
    "scaler = StandardScaler()\n",
    "X_train = scaler.fit_transform(X_train)\n",
    "X_test = scaler.transform(X_test)\n",
    "\n",
    "pca = PCA(n_components=pca_expl_var)\n",
    "X_train_pca = pca.fit_transform(X_train)\n",
    "X_test_pca = pca.transform(X_test)\n",
    "\n",
    "# Train SVM\n",
    "parameters = {'C': [0.1, 1, 10, 100, 1000], 'kernel': ['linear', 'rbf', 'sigmoid']}\n",
    "svm = SVC()\n",
    "clf = GridSearchCV(svm, parameters)\n",
    "clf.fit(X_train_pca, y_train)\n",
    "print(clf.best_params_)\n",
    "\n",
    "# Test SVM\n",
    "y_pred = clf.predict(X_test_pca)\n",
    "accuracy = accuracy_score(y_test, y_pred)\n",
    "print(f\"Accuracy: {accuracy:.2f}\")"
   ]
  },
  {
   "cell_type": "markdown",
   "metadata": {},
   "source": [
    "## Train a model (Random Forest)"
   ]
  },
  {
   "cell_type": "code",
   "execution_count": null,
   "metadata": {},
   "outputs": [
    {
     "name": "stdout",
     "output_type": "stream",
     "text": [
      "{'max_depth': 50, 'n_estimators': 130}\n",
      "Accuracy: 0.64\n"
     ]
    }
   ],
   "source": [
    "X = obs_features.drop('label', axis=1)\n",
    "y = obs_features['label']\n",
    "\n",
    "X_train, X_test, y_train, y_test = train_test_split(X, y, test_size=test_size, random_state=RANDOM_STATE)\n",
    "\n",
    "# Normalize features\n",
    "scaler = StandardScaler()\n",
    "X_train = scaler.fit_transform(X_train)\n",
    "X_test = scaler.transform(X_test)\n",
    "\n",
    "# Train Random Forest\n",
    "n_estimators = [10, 50, 90, 130]\n",
    "max_depth = [10, 25, 50]\n",
    "param_grid = {'n_estimators': n_estimators, 'max_depth': max_depth}\n",
    "\n",
    "rf = RandomForestClassifier() \n",
    "clf = GridSearchCV(rf, param_grid)\n",
    "clf.fit(X_train, y_train)\n",
    "print(clf.best_params_)\n",
    "\n",
    "# Test Random Forest\n",
    "y_pred = clf.predict(X_test)\n",
    "accuracy = accuracy_score(y_test, y_pred)\n",
    "print(f\"Accuracy: {accuracy:.2f}\")\n"
   ]
  },
  {
   "cell_type": "code",
   "execution_count": null,
   "metadata": {},
   "outputs": [],
   "source": []
  }
 ],
 "metadata": {
  "kernelspec": {
   "display_name": "tne",
   "language": "python",
   "name": "python3"
  },
  "language_info": {
   "codemirror_mode": {
    "name": "ipython",
    "version": 3
   },
   "file_extension": ".py",
   "mimetype": "text/x-python",
   "name": "python",
   "nbconvert_exporter": "python",
   "pygments_lexer": "ipython3",
   "version": "3.12.7"
  }
 },
 "nbformat": 4,
 "nbformat_minor": 2
}
