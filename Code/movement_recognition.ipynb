{
 "cells": [
  {
   "cell_type": "code",
   "execution_count": 1,
   "metadata": {},
   "outputs": [],
   "source": [
    "from utils import *\n",
    "from dataset import *\n",
    "from constants import *\n",
    "from sklearn.svm import SVC\n",
    "from sklearn.decomposition import PCA\n",
    "from sklearn.model_selection import train_test_split, GridSearchCV\n",
    "from sklearn.preprocessing import StandardScaler\n",
    "from sklearn.metrics import accuracy_score\n",
    "from sklearn.ensemble import RandomForestClassifier\n",
    "\n",
    "from dataset import Participant"
   ]
  },
  {
   "cell_type": "code",
   "execution_count": 2,
   "metadata": {},
   "outputs": [],
   "source": [
    "participant = Participant('s6', data_path=DATA_PATH_NOTEBOOK)"
   ]
  },
  {
   "cell_type": "code",
   "execution_count": null,
   "metadata": {},
   "outputs": [],
   "source": [
    "test_size = 0.3\n",
    "nb_pca_components = 20"
   ]
  },
  {
   "cell_type": "markdown",
   "metadata": {},
   "source": [
    "## Execution"
   ]
  },
  {
   "cell_type": "code",
   "execution_count": null,
   "metadata": {},
   "outputs": [
    {
     "name": "stderr",
     "output_type": "stream",
     "text": [
      "100%|██████████| 40/40 [00:03<00:00, 10.15it/s]\n",
      "100%|██████████| 40/40 [00:03<00:00, 13.29it/s]\n",
      "100%|██████████| 40/40 [00:02<00:00, 17.43it/s]\n",
      "100%|██████████| 40/40 [00:03<00:00, 11.52it/s]\n",
      "100%|██████████| 40/40 [00:02<00:00, 15.99it/s]\n",
      "100%|██████████| 40/40 [00:01<00:00, 34.85it/s]]\n",
      "100%|██████████| 40/40 [00:01<00:00, 25.89it/s]]\n",
      "100%|██████████| 40/40 [00:01<00:00, 30.99it/s]]\n",
      "100%|██████████| 40/40 [00:01<00:00, 22.84it/s]]\n",
      "100%|██████████| 40/40 [00:01<00:00, 24.82it/s]]\n",
      "100%|██████████| 40/40 [00:01<00:00, 35.42it/s]]\n",
      "100%|██████████| 40/40 [00:01<00:00, 31.70it/s]]\n",
      "100%|██████████| 40/40 [00:01<00:00, 27.16it/s]]\n",
      "100%|██████████| 40/40 [00:01<00:00, 29.28it/s]]\n",
      "100%|██████████| 40/40 [00:01<00:00, 22.61it/s]]\n",
      "100%|██████████| 40/40 [00:01<00:00, 30.90it/s]]\n",
      "100%|██████████| 40/40 [00:01<00:00, 28.09it/s]]\n",
      "100%|██████████| 40/40 [00:01<00:00, 30.93it/s]]\n",
      "100%|██████████| 40/40 [00:01<00:00, 22.47it/s]]\n",
      "100%|██████████| 40/40 [00:01<00:00, 30.52it/s]]\n",
      "100%|██████████| 40/40 [00:01<00:00, 34.15it/s]]\n",
      "100%|██████████| 40/40 [00:01<00:00, 23.60it/s]]\n",
      "100%|██████████| 40/40 [00:01<00:00, 24.13it/s]]\n",
      "100%|██████████| 40/40 [00:01<00:00, 35.84it/s]]\n",
      "100%|██████████| 40/40 [00:01<00:00, 26.60it/s]]\n",
      "100%|██████████| 40/40 [00:01<00:00, 37.37it/s]]\n",
      "100%|██████████| 40/40 [00:01<00:00, 25.39it/s]]\n",
      "100%|██████████| 40/40 [00:01<00:00, 26.15it/s]]\n",
      "100%|██████████| 40/40 [00:01<00:00, 22.61it/s]]\n",
      "100%|██████████| 40/40 [00:01<00:00, 24.76it/s]]\n",
      "100%|██████████| 40/40 [00:01<00:00, 26.41it/s]]\n",
      "100%|██████████| 40/40 [00:01<00:00, 26.26it/s]]\n",
      "100%|██████████| 40/40 [00:01<00:00, 34.29it/s]]\n",
      "100%|██████████| 40/40 [00:01<00:00, 23.76it/s]]\n",
      "100%|██████████| 40/40 [00:01<00:00, 25.54it/s]]\n",
      "100%|██████████| 40/40 [00:01<00:00, 37.50it/s]]\n",
      "100%|██████████| 40/40 [00:01<00:00, 20.88it/s]]\n",
      "100%|██████████| 40/40 [00:01<00:00, 34.91it/s]]\n",
      "100%|██████████| 40/40 [00:01<00:00, 32.59it/s]]\n",
      "100%|██████████| 40/40 [00:01<00:00, 36.51it/s]]\n",
      "100%|██████████| 40/40 [00:01<00:00, 25.46it/s]]\n",
      "100%|██████████| 40/40 [00:01<00:00, 27.59it/s]]\n",
      "100%|██████████| 40/40 [00:01<00:00, 37.19it/s]]\n",
      "100%|██████████| 40/40 [00:01<00:00, 31.58it/s]]\n",
      "100%|██████████| 40/40 [00:01<00:00, 30.68it/s]]\n",
      "100%|██████████| 40/40 [00:01<00:00, 27.83it/s]]\n",
      "100%|██████████| 40/40 [00:01<00:00, 23.57it/s]]\n",
      "100%|██████████| 40/40 [00:01<00:00, 25.52it/s]]\n",
      "100%|██████████| 40/40 [00:01<00:00, 38.65it/s]]\n",
      "100%|██████████| 40/40 [00:01<00:00, 24.64it/s]]\n",
      "100%|██████████| 40/40 [00:01<00:00, 38.24it/s]s]\n",
      "100%|██████████| 40/40 [00:01<00:00, 21.85it/s]s]\n",
      "100%|██████████| 40/40 [00:01<00:00, 25.23it/s]s]\n",
      "100%|██████████| 40/40 [00:01<00:00, 30.70it/s]s]\n",
      "100%|██████████| 40/40 [00:01<00:00, 25.39it/s]s]\n",
      "100%|██████████| 40/40 [00:01<00:00, 22.95it/s]s]\n",
      "100%|██████████| 40/40 [00:01<00:00, 35.17it/s]s]\n",
      "100%|██████████| 40/40 [00:01<00:00, 24.94it/s]s]\n",
      "100%|██████████| 40/40 [00:01<00:00, 32.09it/s]s]\n",
      "100%|██████████| 40/40 [00:01<00:00, 33.93it/s]s]\n",
      "100%|██████████| 40/40 [00:01<00:00, 26.30it/s]s]\n",
      "100%|██████████| 40/40 [00:01<00:00, 25.79it/s]s]\n",
      "100%|██████████| 40/40 [00:01<00:00, 31.77it/s]s]\n",
      "100%|██████████| 40/40 [00:01<00:00, 39.05it/s]s]\n",
      "100%|██████████| 40/40 [00:01<00:00, 23.83it/s]s]\n",
      "100%|██████████| 40/40 [00:01<00:00, 34.41it/s]s]\n",
      "100%|██████████| 40/40 [00:01<00:00, 28.62it/s]s]\n",
      "100%|██████████| 40/40 [00:01<00:00, 33.31it/s]t]\n",
      "100%|██████████| 40/40 [00:00<00:00, 41.24it/s]s]\n",
      "100%|██████████| 40/40 [00:01<00:00, 39.53it/s]s]\n",
      "100%|██████████| 40/40 [00:01<00:00, 27.00it/s]s]\n",
      "100%|██████████| 40/40 [00:01<00:00, 23.20it/s]s]\n",
      "100%|██████████| 40/40 [00:01<00:00, 25.71it/s]s]\n",
      "100%|██████████| 40/40 [00:01<00:00, 35.70it/s]s]\n",
      "100%|██████████| 40/40 [00:01<00:00, 26.59it/s]s]\n",
      "100%|██████████| 40/40 [00:01<00:00, 31.56it/s]s]\n",
      "100%|██████████| 40/40 [00:01<00:00, 25.37it/s]s]\n",
      "100%|██████████| 40/40 [00:01<00:00, 29.96it/s]s]\n",
      "100%|██████████| 40/40 [00:01<00:00, 36.50it/s]s]\n",
      "100%|██████████| 40/40 [00:01<00:00, 24.93it/s]s]\n",
      "100%|██████████| 40/40 [00:01<00:00, 34.62it/s]s]\n",
      "100%|██████████| 40/40 [00:00<00:00, 40.09it/s]s]\n",
      "100%|██████████| 40/40 [00:01<00:00, 26.19it/s]s]\n",
      "100%|██████████| 40/40 [00:01<00:00, 30.46it/s]s]\n",
      "100%|██████████| 40/40 [00:01<00:00, 35.17it/s]s]\n",
      "100%|██████████| 40/40 [00:01<00:00, 34.22it/s]s]\n",
      "100%|██████████| 40/40 [00:01<00:00, 39.30it/s]s]\n",
      "100%|██████████| 40/40 [00:00<00:00, 50.17it/s]s]\n",
      "100%|██████████| 40/40 [00:01<00:00, 25.04it/s]s]\n",
      "100%|██████████| 40/40 [00:01<00:00, 30.16it/s]s]\n",
      "100%|██████████| 40/40 [00:01<00:00, 38.80it/s]s]\n",
      "100%|██████████| 40/40 [00:01<00:00, 28.63it/s]s]\n",
      "100%|██████████| 40/40 [00:01<00:00, 32.64it/s]s]\n",
      "100%|██████████| 40/40 [00:01<00:00, 23.97it/s]s]\n",
      "100%|██████████| 40/40 [00:01<00:00, 26.02it/s]s]\n",
      "100%|██████████| 40/40 [00:01<00:00, 37.42it/s]s]\n",
      "100%|██████████| 40/40 [00:00<00:00, 41.70it/s]s]\n",
      "100%|██████████| 40/40 [00:01<00:00, 38.14it/s]s]\n",
      "100%|██████████| 40/40 [00:01<00:00, 25.74it/s]s]\n",
      "100%|██████████| 40/40 [00:01<00:00, 25.94it/s]s]\n",
      "100%|██████████| 40/40 [00:00<00:00, 42.01it/s]s]\n",
      "100%|██████████| 40/40 [00:01<00:00, 35.13it/s]s]\n",
      "100%|██████████| 40/40 [00:01<00:00, 34.94it/s]s]\n",
      "100%|██████████| 40/40 [00:01<00:00, 36.74it/s]s]\n",
      "100%|██████████| 40/40 [00:01<00:00, 38.83it/s]s]\n",
      "100%|██████████| 40/40 [00:01<00:00, 38.21it/s]s]\n",
      "100%|██████████| 40/40 [00:01<00:00, 25.14it/s]s]\n",
      "100%|██████████| 40/40 [00:01<00:00, 29.81it/s]s]\n",
      "100%|██████████| 40/40 [00:01<00:00, 35.08it/s]s]\n",
      "100%|██████████| 40/40 [00:01<00:00, 39.01it/s]s]\n",
      "100%|██████████| 40/40 [00:01<00:00, 35.00it/s]s]\n",
      "100%|██████████| 40/40 [00:01<00:00, 24.68it/s]s]\n",
      "100%|██████████| 40/40 [00:01<00:00, 27.38it/s]s]\n",
      "100%|██████████| 40/40 [00:01<00:00, 31.52it/s]s]\n",
      "100%|██████████| 40/40 [00:01<00:00, 34.89it/s]s]\n",
      "100%|██████████| 40/40 [00:01<00:00, 33.40it/s]s]\n",
      "100%|██████████| 40/40 [00:01<00:00, 25.07it/s]s]\n",
      "100%|██████████| 40/40 [00:01<00:00, 28.18it/s]s]\n",
      "100%|██████████| 40/40 [00:01<00:00, 34.32it/s]s]\n",
      "100%|██████████| 40/40 [00:01<00:00, 34.38it/s]s]\n",
      "100%|██████████| 40/40 [00:01<00:00, 34.13it/s]s]\n",
      "100%|██████████| 40/40 [00:01<00:00, 22.79it/s]s]\n",
      "100%|██████████| 40/40 [00:01<00:00, 27.46it/s]s]\n",
      "100%|██████████| 40/40 [00:01<00:00, 33.98it/s]s]\n",
      "100%|██████████| 40/40 [00:01<00:00, 34.29it/s]s]\n",
      "100%|██████████| 40/40 [00:00<00:00, 50.10it/s]s]\n",
      "100%|██████████| 40/40 [00:01<00:00, 31.90it/s]s]\n",
      "100%|██████████| 40/40 [00:01<00:00, 35.80it/s]s]\n",
      "100%|██████████| 256/256 [03:00<00:00,  1.42it/s]\n"
     ]
    }
   ],
   "source": [
    "movtype = 'E'\n",
    "features = participant.get_features_all_sessions_mvt(movtype)"
   ]
  },
  {
   "cell_type": "code",
   "execution_count": 4,
   "metadata": {},
   "outputs": [
    {
     "name": "stdout",
     "output_type": "stream",
     "text": [
      "The dataset contains 128 samples and 2881 features.\n"
     ]
    }
   ],
   "source": [
    "print(f'The dataset contains {features.shape[0]} samples and {features.shape[1]} features.')"
   ]
  },
  {
   "cell_type": "markdown",
   "metadata": {},
   "source": [
    "## Train a model (SVM)"
   ]
  },
  {
   "cell_type": "code",
   "execution_count": null,
   "metadata": {},
   "outputs": [
    {
     "name": "stdout",
     "output_type": "stream",
     "text": [
      "{'C': 10, 'kernel': 'sigmoid'}\n",
      "Accuracy: 0.65\n"
     ]
    }
   ],
   "source": [
    "X = features.drop('label', axis=1)\n",
    "y = features['label']\n",
    "\n",
    "X_train, X_test, y_train, y_test = train_test_split(X, y, test_size=test_size, random_state=RANDOM_STATE)\n",
    "\n",
    "# Normalize features\n",
    "scaler = StandardScaler()\n",
    "X_train = scaler.fit_transform(X_train)\n",
    "X_test = scaler.transform(X_test)\n",
    "\n",
    "# Train SVM\n",
    "parameters = {'C': [0.1, 1, 10, 100, 1000], 'kernel': ['linear', 'rbf', 'sigmoid']}\n",
    "svm = SVC()\n",
    "clf = GridSearchCV(svm, parameters)\n",
    "clf.fit(X_train, y_train)\n",
    "print(clf.best_params_)\n",
    "\n",
    "# Test SVM\n",
    "y_pred = clf.predict(X_test)\n",
    "accuracy = accuracy_score(y_test, y_pred)\n",
    "print(f\"Accuracy: {accuracy:.2f}\")"
   ]
  },
  {
   "cell_type": "markdown",
   "metadata": {},
   "source": [
    "#### With PCA"
   ]
  },
  {
   "cell_type": "code",
   "execution_count": null,
   "metadata": {},
   "outputs": [
    {
     "name": "stdout",
     "output_type": "stream",
     "text": [
      "{'C': 100, 'kernel': 'sigmoid'}\n",
      "Accuracy: 0.81\n"
     ]
    }
   ],
   "source": [
    "X = features.drop('label', axis=1)\n",
    "y = features['label']\n",
    "\n",
    "X_train, X_test, y_train, y_test = train_test_split(X, y, test_size=test_size, random_state=RANDOM_STATE)\n",
    "\n",
    "# Normalize features\n",
    "scaler = StandardScaler()\n",
    "X_train = scaler.fit_transform(X_train)\n",
    "X_test = scaler.transform(X_test)\n",
    "\n",
    "pca = PCA(n_components=nb_pca_components)\n",
    "X_train_pca = pca.fit_transform(X_train)\n",
    "X_test_pca = pca.transform(X_test)\n",
    "\n",
    "# Train SVM\n",
    "parameters = {'C': [0.1, 1, 10, 100, 1000], 'kernel': ['linear', 'rbf', 'sigmoid']}\n",
    "svm = SVC()\n",
    "clf = GridSearchCV(svm, parameters)\n",
    "clf.fit(X_train_pca, y_train)\n",
    "print(clf.best_params_)\n",
    "\n",
    "# Test SVM\n",
    "y_pred = clf.predict(X_test_pca)\n",
    "accuracy = accuracy_score(y_test, y_pred)\n",
    "print(f\"Accuracy: {accuracy:.2f}\")"
   ]
  },
  {
   "cell_type": "markdown",
   "metadata": {},
   "source": [
    "## Train a model (Random Forest)"
   ]
  },
  {
   "cell_type": "code",
   "execution_count": null,
   "metadata": {},
   "outputs": [
    {
     "name": "stdout",
     "output_type": "stream",
     "text": [
      "{'max_depth': 50, 'n_estimators': 90}\n",
      "Accuracy: 0.88\n"
     ]
    },
    {
     "name": "stderr",
     "output_type": "stream",
     "text": [
      "c:\\Users\\sarah\\miniconda3\\envs\\ml4scienceTNEproject\\Lib\\site-packages\\numpy\\ma\\core.py:2881: RuntimeWarning: invalid value encountered in cast\n",
      "  _data = np.array(data, dtype=dtype, copy=copy,\n"
     ]
    }
   ],
   "source": [
    "X_train, X_test, y_train, y_test = train_test_split(X, y, test_size=test_size, random_state=RANDOM_STATE)\n",
    "\n",
    "# Normalize features\n",
    "scaler = StandardScaler()\n",
    "X_train = scaler.fit_transform(X_train)\n",
    "X_test = scaler.transform(X_test)\n",
    "\n",
    "# Train Random Forest\n",
    "n_estimators = [10, 50, 90, 130]\n",
    "max_depth = [10, 25, 50]\n",
    "param_grid = {'n_estimators': n_estimators, 'max_depth': max_depth}\n",
    "\n",
    "rf = RandomForestClassifier() \n",
    "clf = GridSearchCV(rf, param_grid)\n",
    "clf.fit(X_train, y_train)\n",
    "print(clf.best_params_)\n",
    "\n",
    "# Test Random Forest\n",
    "y_pred = clf.predict(X_test)\n",
    "accuracy = accuracy_score(y_test, y_pred)\n",
    "print(f\"Accuracy: {accuracy:.2f}\")\n"
   ]
  },
  {
   "cell_type": "markdown",
   "metadata": {},
   "source": [
    "## Observation"
   ]
  },
  {
   "cell_type": "code",
   "execution_count": null,
   "metadata": {},
   "outputs": [
    {
     "name": "stderr",
     "output_type": "stream",
     "text": [
      "  0%|          | 0/256 [00:00<?, ?it/s]"
     ]
    },
    {
     "name": "stderr",
     "output_type": "stream",
     "text": [
      "100%|██████████| 40/40 [00:01<00:00, 29.95it/s]\n",
      "100%|██████████| 40/40 [00:01<00:00, 33.88it/s]\n",
      "100%|██████████| 40/40 [00:01<00:00, 24.59it/s]\n",
      "100%|██████████| 40/40 [00:01<00:00, 25.73it/s]\n",
      "100%|██████████| 40/40 [00:01<00:00, 25.31it/s]\n",
      "100%|██████████| 40/40 [00:01<00:00, 34.50it/s]\n",
      "100%|██████████| 40/40 [00:01<00:00, 37.58it/s]]\n",
      "100%|██████████| 40/40 [00:01<00:00, 39.08it/s]]\n",
      "100%|██████████| 40/40 [00:01<00:00, 25.48it/s]]\n",
      "100%|██████████| 40/40 [00:01<00:00, 31.66it/s]]\n",
      "100%|██████████| 40/40 [00:01<00:00, 25.93it/s]]\n",
      "100%|██████████| 40/40 [00:01<00:00, 35.43it/s]]\n",
      "100%|██████████| 40/40 [00:01<00:00, 38.84it/s]]\n",
      "100%|██████████| 40/40 [00:00<00:00, 40.51it/s]]\n",
      "100%|██████████| 40/40 [00:02<00:00, 18.84it/s]]\n",
      "100%|██████████| 40/40 [00:01<00:00, 36.20it/s]]\n",
      "100%|██████████| 40/40 [00:01<00:00, 31.34it/s]]\n",
      "100%|██████████| 40/40 [00:01<00:00, 39.25it/s]]\n",
      "100%|██████████| 40/40 [00:01<00:00, 37.49it/s]]\n",
      "100%|██████████| 40/40 [00:01<00:00, 36.17it/s]]\n",
      "100%|██████████| 40/40 [00:01<00:00, 30.06it/s]]\n",
      "100%|██████████| 40/40 [00:01<00:00, 25.60it/s]]\n",
      "100%|██████████| 40/40 [00:01<00:00, 24.90it/s]]\n",
      "100%|██████████| 40/40 [00:00<00:00, 41.80it/s]]\n",
      "100%|██████████| 40/40 [00:01<00:00, 38.50it/s]]\n",
      "100%|██████████| 40/40 [00:01<00:00, 26.56it/s]]\n",
      "100%|██████████| 40/40 [00:01<00:00, 26.21it/s]]\n",
      "100%|██████████| 40/40 [00:01<00:00, 35.52it/s]]\n",
      "100%|██████████| 40/40 [00:00<00:00, 41.99it/s]]\n",
      "100%|██████████| 40/40 [00:01<00:00, 29.52it/s]]\n",
      "100%|██████████| 40/40 [00:01<00:00, 24.32it/s]]\n",
      "100%|██████████| 40/40 [00:01<00:00, 35.17it/s]]\n",
      "100%|██████████| 40/40 [00:01<00:00, 24.60it/s]]\n",
      "100%|██████████| 40/40 [00:01<00:00, 26.13it/s]]\n",
      "100%|██████████| 40/40 [00:01<00:00, 37.23it/s]]\n",
      "100%|██████████| 40/40 [00:01<00:00, 26.38it/s]]\n",
      "100%|██████████| 40/40 [00:01<00:00, 36.70it/s]]\n",
      "100%|██████████| 40/40 [00:01<00:00, 39.85it/s]]\n",
      "100%|██████████| 40/40 [00:00<00:00, 58.52it/s]]\n",
      "100%|██████████| 40/40 [00:01<00:00, 37.96it/s]]\n",
      "100%|██████████| 40/40 [00:01<00:00, 39.33it/s]]\n",
      "100%|██████████| 40/40 [00:01<00:00, 37.20it/s]]\n",
      "100%|██████████| 40/40 [00:01<00:00, 26.70it/s]]\n",
      "100%|██████████| 40/40 [00:01<00:00, 37.52it/s]]\n",
      "100%|██████████| 40/40 [00:01<00:00, 31.78it/s]]\n",
      "100%|██████████| 40/40 [00:01<00:00, 35.98it/s]]\n",
      "100%|██████████| 40/40 [00:01<00:00, 26.29it/s]]\n",
      "100%|██████████| 40/40 [00:01<00:00, 27.60it/s]]\n",
      "100%|██████████| 40/40 [00:01<00:00, 26.50it/s]]\n",
      "100%|██████████| 40/40 [00:01<00:00, 37.89it/s]]\n",
      "100%|██████████| 40/40 [00:01<00:00, 36.32it/s]]\n",
      "100%|██████████| 40/40 [00:00<00:00, 40.13it/s]s]\n",
      "100%|██████████| 40/40 [00:01<00:00, 36.98it/s]s]\n",
      "100%|██████████| 40/40 [00:01<00:00, 26.70it/s]s]\n",
      "100%|██████████| 40/40 [00:01<00:00, 34.33it/s]s]\n",
      "100%|██████████| 40/40 [00:01<00:00, 36.98it/s]s]\n",
      "100%|██████████| 40/40 [00:01<00:00, 27.52it/s]s]\n",
      "100%|██████████| 40/40 [00:01<00:00, 36.49it/s]s]\n",
      "100%|██████████| 40/40 [00:01<00:00, 26.20it/s]s]\n",
      "100%|██████████| 40/40 [00:01<00:00, 27.21it/s]s]\n",
      "100%|██████████| 40/40 [00:01<00:00, 38.92it/s]s]\n",
      "100%|██████████| 40/40 [00:01<00:00, 34.10it/s]s]\n",
      "100%|██████████| 40/40 [00:01<00:00, 26.60it/s]s]\n",
      "100%|██████████| 40/40 [00:00<00:00, 40.70it/s]s]\n",
      "100%|██████████| 40/40 [00:01<00:00, 26.30it/s]s]\n",
      "100%|██████████| 40/40 [00:01<00:00, 37.53it/s]s]\n",
      "100%|██████████| 40/40 [00:01<00:00, 29.69it/s]s]\n",
      "100%|██████████| 40/40 [00:01<00:00, 36.91it/s]s]\n",
      "100%|██████████| 40/40 [00:01<00:00, 34.44it/s]s]\n",
      "100%|██████████| 40/40 [00:01<00:00, 26.56it/s]s]\n",
      "100%|██████████| 40/40 [00:01<00:00, 35.38it/s]s]\n",
      "100%|██████████| 40/40 [00:01<00:00, 37.87it/s]s]\n",
      "100%|██████████| 40/40 [00:01<00:00, 37.35it/s]s]\n",
      "100%|██████████| 40/40 [00:01<00:00, 34.99it/s]s]\n",
      "100%|██████████| 40/40 [00:01<00:00, 36.14it/s]s]\n",
      "100%|██████████| 40/40 [00:01<00:00, 26.53it/s]s]\n",
      "100%|██████████| 40/40 [00:01<00:00, 24.99it/s]s]\n",
      "100%|██████████| 40/40 [00:01<00:00, 39.26it/s]s]\n",
      "100%|██████████| 40/40 [00:01<00:00, 34.99it/s]s]\n",
      "100%|██████████| 40/40 [00:01<00:00, 36.92it/s]s]\n",
      "100%|██████████| 40/40 [00:01<00:00, 29.41it/s]s]\n",
      "100%|██████████| 40/40 [00:00<00:00, 44.53it/s]s]\n",
      "100%|██████████| 40/40 [00:00<00:00, 42.39it/s]s]\n",
      "100%|██████████| 40/40 [00:00<00:00, 40.93it/s]s]\n",
      "100%|██████████| 40/40 [00:00<00:00, 43.69it/s]s]\n",
      "100%|██████████| 40/40 [00:00<00:00, 40.33it/s]s]\n",
      "100%|██████████| 40/40 [00:00<00:00, 42.09it/s]s]\n",
      "100%|██████████| 40/40 [00:00<00:00, 41.32it/s]s]\n",
      "100%|██████████| 40/40 [00:00<00:00, 43.71it/s]s]\n",
      "100%|██████████| 40/40 [00:00<00:00, 44.93it/s]s]\n",
      "100%|██████████| 40/40 [00:01<00:00, 25.36it/s]s]\n",
      "100%|██████████| 40/40 [00:00<00:00, 44.54it/s]s]\n",
      "100%|██████████| 40/40 [00:00<00:00, 44.05it/s]s]\n",
      "100%|██████████| 40/40 [00:01<00:00, 28.19it/s]s]\n",
      "100%|██████████| 40/40 [00:00<00:00, 43.26it/s]s]\n",
      "100%|██████████| 40/40 [00:01<00:00, 29.19it/s]s]\n",
      "100%|██████████| 40/40 [00:01<00:00, 34.17it/s]s]\n",
      "100%|██████████| 40/40 [00:01<00:00, 29.84it/s]s]\n",
      "100%|██████████| 40/40 [00:00<00:00, 45.00it/s]s]\n",
      "100%|██████████| 40/40 [00:00<00:00, 40.26it/s]s]\n",
      "100%|██████████| 40/40 [00:01<00:00, 28.84it/s]s]\n",
      "100%|██████████| 40/40 [00:01<00:00, 28.49it/s]s]\n",
      "100%|██████████| 40/40 [00:01<00:00, 27.59it/s]s]\n",
      "100%|██████████| 40/40 [00:00<00:00, 42.79it/s]s]\n",
      "100%|██████████| 40/40 [00:00<00:00, 42.02it/s]s]\n",
      "100%|██████████| 40/40 [00:01<00:00, 28.37it/s]s]\n",
      "100%|██████████| 40/40 [00:01<00:00, 36.85it/s]s]\n",
      "100%|██████████| 40/40 [00:00<00:00, 43.00it/s]s]\n",
      "100%|██████████| 40/40 [00:01<00:00, 27.82it/s]s]\n",
      "100%|██████████| 40/40 [00:01<00:00, 26.60it/s]s]\n",
      "100%|██████████| 40/40 [00:00<00:00, 41.96it/s]s]\n",
      "100%|██████████| 40/40 [00:01<00:00, 24.82it/s]s]\n",
      "100%|██████████| 40/40 [00:01<00:00, 39.76it/s]s]\n",
      "100%|██████████| 40/40 [00:01<00:00, 34.68it/s]s]\n",
      "100%|██████████| 40/40 [00:01<00:00, 29.37it/s]s]\n",
      "100%|██████████| 40/40 [00:01<00:00, 28.66it/s]s]\n",
      "100%|██████████| 40/40 [00:00<00:00, 41.29it/s]s]\n",
      "100%|██████████| 40/40 [00:01<00:00, 33.15it/s]s]\n",
      "100%|██████████| 40/40 [00:01<00:00, 39.46it/s]s]\n",
      "100%|██████████| 40/40 [00:01<00:00, 31.43it/s]s]\n",
      "100%|██████████| 40/40 [00:00<00:00, 42.88it/s]s]\n",
      "100%|██████████| 40/40 [00:01<00:00, 25.52it/s]s]\n",
      "100%|██████████| 40/40 [00:01<00:00, 30.13it/s]s]\n",
      "100%|██████████| 40/40 [00:01<00:00, 37.82it/s]s]\n",
      "100%|██████████| 40/40 [00:01<00:00, 26.40it/s]s]\n",
      "100%|██████████| 40/40 [00:01<00:00, 39.30it/s]s]\n",
      "100%|██████████| 40/40 [00:01<00:00, 25.49it/s]s]\n",
      "100%|██████████| 40/40 [00:01<00:00, 37.12it/s]s]\n",
      "100%|██████████| 256/256 [02:36<00:00,  1.64it/s]\n"
     ]
    }
   ],
   "source": [
    "movtype = 'O'\n",
    "features = participant.get_features_all_sessions_mvt(movtype)"
   ]
  },
  {
   "cell_type": "code",
   "execution_count": 9,
   "metadata": {},
   "outputs": [
    {
     "name": "stdout",
     "output_type": "stream",
     "text": [
      "The dataset contains 128 samples and 2881 features.\n"
     ]
    }
   ],
   "source": [
    "print(f'The dataset contains {features.shape[0]} samples and {features.shape[1]} features.')"
   ]
  },
  {
   "cell_type": "markdown",
   "metadata": {},
   "source": [
    "## Train a model (SVM)"
   ]
  },
  {
   "cell_type": "code",
   "execution_count": null,
   "metadata": {},
   "outputs": [
    {
     "name": "stdout",
     "output_type": "stream",
     "text": [
      "{'C': 1, 'kernel': 'rbf'}\n",
      "Accuracy: 0.73\n"
     ]
    }
   ],
   "source": [
    "X = features.drop('label', axis=1)\n",
    "y = features['label']\n",
    "\n",
    "X_train, X_test, y_train, y_test = train_test_split(X, y, test_size=test_size, random_state=RANDOM_STATE)\n",
    "\n",
    "# Normalize features\n",
    "scaler = StandardScaler()\n",
    "X_train = scaler.fit_transform(X_train)\n",
    "X_test = scaler.transform(X_test)\n",
    "\n",
    "# Train SVM\n",
    "parameters = {'C': [0.1, 1, 10, 100, 1000], 'kernel': ['linear', 'rbf', 'sigmoid']}\n",
    "svm = SVC()\n",
    "clf = GridSearchCV(svm, parameters)\n",
    "clf.fit(X_train, y_train)\n",
    "print(clf.best_params_)\n",
    "\n",
    "# Test SVM\n",
    "y_pred = clf.predict(X_test)\n",
    "accuracy = accuracy_score(y_test, y_pred)\n",
    "print(f\"Accuracy: {accuracy:.2f}\")"
   ]
  },
  {
   "cell_type": "markdown",
   "metadata": {},
   "source": [
    "#### With PCA"
   ]
  },
  {
   "cell_type": "code",
   "execution_count": null,
   "metadata": {},
   "outputs": [
    {
     "name": "stdout",
     "output_type": "stream",
     "text": [
      "{'C': 1, 'kernel': 'rbf'}\n",
      "Accuracy: 0.50\n"
     ]
    }
   ],
   "source": [
    "X = features.drop('label', axis=1)\n",
    "y = features['label']\n",
    "\n",
    "X_train, X_test, y_train, y_test = train_test_split(X, y, test_size=test_size, random_state=RANDOM_STATE)\n",
    "\n",
    "# Normalize features\n",
    "scaler = StandardScaler()\n",
    "X_train = scaler.fit_transform(X_train)\n",
    "X_test = scaler.transform(X_test)\n",
    "\n",
    "pca = PCA(n_components=nb_pca_components)\n",
    "X_train_pca = pca.fit_transform(X_train)\n",
    "X_test_pca = pca.transform(X_test)\n",
    "\n",
    "# Train SVM\n",
    "parameters = {'C': [0.1, 1, 10, 100, 1000], 'kernel': ['linear', 'rbf', 'sigmoid']}\n",
    "svm = SVC()\n",
    "clf = GridSearchCV(svm, parameters)\n",
    "clf.fit(X_train_pca, y_train)\n",
    "print(clf.best_params_)\n",
    "\n",
    "# Test SVM\n",
    "y_pred = clf.predict(X_test_pca)\n",
    "accuracy = accuracy_score(y_test, y_pred)\n",
    "print(f\"Accuracy: {accuracy:.2f}\")"
   ]
  },
  {
   "cell_type": "markdown",
   "metadata": {},
   "source": [
    "## Train a model (Random Forest)"
   ]
  },
  {
   "cell_type": "code",
   "execution_count": null,
   "metadata": {},
   "outputs": [
    {
     "name": "stdout",
     "output_type": "stream",
     "text": [
      "{'max_depth': 50, 'n_estimators': 50}\n",
      "Accuracy: 0.69\n"
     ]
    }
   ],
   "source": [
    "X_train, X_test, y_train, y_test = train_test_split(X, y, test_size=test_size, random_state=RANDOM_STATE)\n",
    "\n",
    "# Normalize features\n",
    "scaler = StandardScaler()\n",
    "X_train = scaler.fit_transform(X_train)\n",
    "X_test = scaler.transform(X_test)\n",
    "\n",
    "# Train Random Forest\n",
    "n_estimators = [10, 50, 90, 130]\n",
    "max_depth = [10, 25, 50]\n",
    "param_grid = {'n_estimators': n_estimators, 'max_depth': max_depth}\n",
    "\n",
    "rf = RandomForestClassifier() \n",
    "clf = GridSearchCV(rf, param_grid)\n",
    "clf.fit(X_train, y_train)\n",
    "print(clf.best_params_)\n",
    "\n",
    "# Test Random Forest\n",
    "y_pred = clf.predict(X_test)\n",
    "accuracy = accuracy_score(y_test, y_pred)\n",
    "print(f\"Accuracy: {accuracy:.2f}\")\n"
   ]
  },
  {
   "cell_type": "code",
   "execution_count": null,
   "metadata": {},
   "outputs": [],
   "source": []
  }
 ],
 "metadata": {
  "kernelspec": {
   "display_name": "tne",
   "language": "python",
   "name": "python3"
  },
  "language_info": {
   "codemirror_mode": {
    "name": "ipython",
    "version": 3
   },
   "file_extension": ".py",
   "mimetype": "text/x-python",
   "name": "python",
   "nbconvert_exporter": "python",
   "pygments_lexer": "ipython3",
   "version": "3.12.7"
  }
 },
 "nbformat": 4,
 "nbformat_minor": 2
}
