{
 "cells": [
  {
   "cell_type": "code",
   "execution_count": 1,
   "metadata": {},
   "outputs": [],
   "source": [
    "from utils import *\n",
    "from dataset import *\n",
    "from constants import *\n",
    "from sklearn.svm import SVC\n",
    "from sklearn.decomposition import PCA\n",
    "from sklearn.model_selection import train_test_split, GridSearchCV\n",
    "from sklearn.preprocessing import StandardScaler\n",
    "from sklearn.metrics import accuracy_score\n",
    "from sklearn.ensemble import RandomForestClassifier\n",
    "\n",
    "from dataset import Participant"
   ]
  },
  {
   "cell_type": "code",
   "execution_count": 2,
   "metadata": {},
   "outputs": [],
   "source": [
    "participant = Participant('s6', data_path=DATA_PATH_NOTEBOOK)"
   ]
  },
  {
   "cell_type": "markdown",
   "metadata": {},
   "source": [
    "## Execution"
   ]
  },
  {
   "cell_type": "code",
   "execution_count": 3,
   "metadata": {},
   "outputs": [
    {
     "name": "stderr",
     "output_type": "stream",
     "text": [
      "100%|██████████| 40/40 [00:05<00:00,  7.28it/s]\n",
      "100%|██████████| 40/40 [00:04<00:00,  9.52it/s]\n",
      "100%|██████████| 40/40 [00:03<00:00, 13.30it/s]\n",
      "100%|██████████| 40/40 [00:04<00:00,  8.10it/s]\n",
      "100%|██████████| 40/40 [00:03<00:00, 10.70it/s]\n",
      "100%|██████████| 40/40 [00:02<00:00, 15.72it/s]]\n",
      "100%|██████████| 40/40 [00:03<00:00, 11.52it/s]]\n",
      "100%|██████████| 40/40 [00:02<00:00, 14.34it/s]]\n",
      "100%|██████████| 40/40 [00:04<00:00,  8.90it/s]]\n",
      "100%|██████████| 40/40 [00:03<00:00, 10.47it/s]]\n",
      "100%|██████████| 40/40 [00:02<00:00, 16.00it/s]]\n",
      "100%|██████████| 40/40 [00:03<00:00, 12.14it/s]]\n",
      "100%|██████████| 40/40 [00:03<00:00, 12.46it/s]]\n",
      "100%|██████████| 40/40 [00:03<00:00, 13.14it/s]]\n",
      "100%|██████████| 40/40 [00:04<00:00,  9.81it/s]]\n",
      "100%|██████████| 40/40 [00:02<00:00, 14.87it/s]]\n",
      "100%|██████████| 40/40 [00:03<00:00, 13.19it/s]]\n",
      "100%|██████████| 40/40 [00:02<00:00, 14.88it/s]]\n",
      "100%|██████████| 40/40 [00:03<00:00, 10.44it/s]]\n",
      "100%|██████████| 40/40 [00:02<00:00, 15.04it/s]]\n",
      "100%|██████████| 40/40 [00:02<00:00, 15.78it/s]]\n",
      "100%|██████████| 40/40 [00:03<00:00, 11.04it/s]]\n",
      "100%|██████████| 40/40 [00:03<00:00, 10.70it/s]]\n",
      "100%|██████████| 40/40 [00:02<00:00, 15.26it/s]]\n",
      "100%|██████████| 40/40 [00:03<00:00, 11.05it/s]]\n",
      "100%|██████████| 40/40 [00:02<00:00, 15.09it/s]]\n",
      "100%|██████████| 40/40 [00:04<00:00,  9.89it/s]]\n",
      "100%|██████████| 40/40 [00:04<00:00,  9.66it/s]]\n",
      "100%|██████████| 40/40 [00:05<00:00,  7.41it/s]]\n",
      "100%|██████████| 40/40 [00:04<00:00,  8.53it/s]]\n",
      "100%|██████████| 40/40 [00:03<00:00, 11.06it/s]]\n",
      "100%|██████████| 40/40 [00:04<00:00,  9.35it/s]]\n",
      "100%|██████████| 40/40 [00:03<00:00, 12.96it/s]]\n",
      "100%|██████████| 40/40 [00:04<00:00,  8.35it/s]]\n",
      "100%|██████████| 40/40 [00:04<00:00,  9.39it/s]]\n",
      "100%|██████████| 40/40 [00:02<00:00, 15.36it/s]]\n",
      "100%|██████████| 40/40 [00:04<00:00,  8.07it/s]]\n",
      "100%|██████████| 40/40 [00:02<00:00, 14.44it/s]]\n",
      "100%|██████████| 40/40 [00:02<00:00, 13.84it/s]]\n",
      "100%|██████████| 40/40 [00:02<00:00, 15.27it/s]]\n",
      "100%|██████████| 40/40 [00:04<00:00,  9.66it/s]]\n",
      "100%|██████████| 40/40 [00:03<00:00, 11.63it/s]]\n",
      "100%|██████████| 40/40 [00:02<00:00, 15.83it/s]]\n",
      "100%|██████████| 40/40 [00:03<00:00, 13.27it/s]]\n",
      "100%|██████████| 40/40 [00:03<00:00, 12.84it/s]]\n",
      "100%|██████████| 40/40 [00:03<00:00, 10.76it/s]]\n",
      "100%|██████████| 40/40 [00:04<00:00,  8.91it/s]]\n",
      "100%|██████████| 40/40 [00:04<00:00,  9.65it/s]]\n",
      "100%|██████████| 40/40 [00:02<00:00, 16.35it/s]]\n",
      "100%|██████████| 40/40 [00:04<00:00,  9.97it/s]]\n",
      "100%|██████████| 40/40 [00:02<00:00, 16.44it/s]t]\n",
      "100%|██████████| 40/40 [00:04<00:00,  8.62it/s]t]\n",
      "100%|██████████| 40/40 [00:03<00:00, 10.25it/s]t]\n",
      "100%|██████████| 40/40 [00:03<00:00, 12.76it/s]t]\n",
      "100%|██████████| 40/40 [00:04<00:00,  9.85it/s]t]\n",
      "100%|██████████| 40/40 [00:04<00:00,  9.01it/s]t]\n",
      "100%|██████████| 40/40 [00:02<00:00, 14.19it/s]t]\n",
      "100%|██████████| 40/40 [00:04<00:00,  9.75it/s]t]\n",
      "100%|██████████| 40/40 [00:03<00:00, 13.11it/s]t]\n",
      "100%|██████████| 40/40 [00:02<00:00, 13.49it/s]t]\n",
      "100%|██████████| 40/40 [00:03<00:00, 10.83it/s]t]\n",
      "100%|██████████| 40/40 [00:03<00:00, 11.04it/s]t]\n",
      "100%|██████████| 40/40 [00:02<00:00, 13.48it/s]t]\n",
      "100%|██████████| 40/40 [00:02<00:00, 15.22it/s]t]\n",
      "100%|██████████| 40/40 [00:04<00:00,  9.36it/s]t]\n",
      "100%|██████████| 40/40 [00:02<00:00, 13.87it/s]t]\n",
      "100%|██████████| 40/40 [00:03<00:00, 10.93it/s]t]\n",
      "100%|██████████| 40/40 [00:03<00:00, 12.87it/s]t]\n",
      "100%|██████████| 40/40 [00:02<00:00, 16.85it/s]t]\n",
      "100%|██████████| 40/40 [00:02<00:00, 16.35it/s]t]\n",
      "100%|██████████| 40/40 [00:03<00:00, 10.07it/s]t]\n",
      "100%|██████████| 40/40 [00:03<00:00, 10.08it/s]t]\n",
      "100%|██████████| 40/40 [00:03<00:00, 10.35it/s]t]\n",
      "100%|██████████| 40/40 [00:02<00:00, 15.25it/s]t]\n",
      "100%|██████████| 40/40 [00:03<00:00, 10.60it/s]t]\n",
      "100%|██████████| 40/40 [00:03<00:00, 12.91it/s]t]\n",
      "100%|██████████| 40/40 [00:04<00:00,  9.18it/s]t]\n",
      "100%|██████████| 40/40 [00:04<00:00,  8.90it/s]t]\n",
      "100%|██████████| 40/40 [00:03<00:00, 13.28it/s]t]\n",
      "100%|██████████| 40/40 [00:04<00:00,  9.05it/s]t]\n",
      "100%|██████████| 40/40 [00:03<00:00, 10.88it/s]t]\n",
      "100%|██████████| 40/40 [00:02<00:00, 16.69it/s]t]\n",
      "100%|██████████| 40/40 [00:03<00:00, 10.24it/s]t]\n",
      "100%|██████████| 40/40 [00:03<00:00, 11.22it/s]t]\n",
      "100%|██████████| 40/40 [00:02<00:00, 14.32it/s]t]\n",
      "100%|██████████| 40/40 [00:04<00:00,  9.36it/s]t]\n",
      "100%|██████████| 40/40 [00:02<00:00, 16.28it/s]t]\n",
      "100%|██████████| 40/40 [00:02<00:00, 16.32it/s]t]\n",
      "100%|██████████| 40/40 [00:03<00:00, 11.12it/s]t]\n",
      "100%|██████████| 40/40 [00:03<00:00, 12.10it/s]t]\n",
      "100%|██████████| 40/40 [00:02<00:00, 15.58it/s]t]\n",
      "100%|██████████| 40/40 [00:03<00:00, 11.01it/s]t]\n",
      "100%|██████████| 40/40 [00:02<00:00, 13.89it/s]t]\n",
      "100%|██████████| 40/40 [00:04<00:00,  8.29it/s]t]\n",
      "100%|██████████| 40/40 [00:04<00:00,  9.81it/s]t]\n",
      "100%|██████████| 40/40 [00:02<00:00, 15.09it/s]t]\n",
      "100%|██████████| 40/40 [00:02<00:00, 16.19it/s]t]\n",
      "100%|██████████| 40/40 [00:02<00:00, 14.07it/s]t]\n",
      "100%|██████████| 40/40 [00:03<00:00, 10.11it/s]t]\n",
      "100%|██████████| 40/40 [00:04<00:00,  9.58it/s]t]\n",
      "100%|██████████| 40/40 [00:02<00:00, 17.37it/s]t]\n",
      "100%|██████████| 40/40 [00:02<00:00, 14.52it/s]t]\n",
      "100%|██████████| 40/40 [00:02<00:00, 15.05it/s]t]\n",
      "100%|██████████| 40/40 [00:02<00:00, 16.02it/s]t]\n",
      "100%|██████████| 40/40 [00:02<00:00, 16.31it/s]t]\n",
      "100%|██████████| 40/40 [00:02<00:00, 16.05it/s]t]\n",
      "100%|██████████| 40/40 [00:05<00:00,  7.57it/s]t]\n",
      "100%|██████████| 40/40 [00:04<00:00,  9.53it/s]t]\n",
      "100%|██████████| 40/40 [00:03<00:00, 10.97it/s]t]\n",
      "100%|██████████| 40/40 [00:03<00:00, 11.69it/s]t]\n",
      "100%|██████████| 40/40 [00:02<00:00, 15.32it/s]t]\n",
      "100%|██████████| 40/40 [00:03<00:00, 11.37it/s]t]\n",
      "100%|██████████| 40/40 [00:03<00:00, 13.25it/s]t]\n",
      "100%|██████████| 40/40 [00:02<00:00, 16.47it/s]t]\n",
      "100%|██████████| 40/40 [00:02<00:00, 16.75it/s]t]\n",
      "100%|██████████| 40/40 [00:02<00:00, 13.95it/s]t]\n",
      "100%|██████████| 40/40 [00:03<00:00, 10.11it/s]t]\n",
      "100%|██████████| 40/40 [00:03<00:00, 12.39it/s]t]\n",
      "100%|██████████| 40/40 [00:02<00:00, 15.38it/s]t]\n",
      "100%|██████████| 40/40 [00:02<00:00, 14.86it/s]t]\n",
      "100%|██████████| 40/40 [00:02<00:00, 14.81it/s]t]\n",
      "100%|██████████| 40/40 [00:04<00:00,  9.29it/s]t]\n",
      "100%|██████████| 40/40 [00:03<00:00, 11.00it/s]t]\n",
      "100%|██████████| 40/40 [00:02<00:00, 14.99it/s]t]\n",
      "100%|██████████| 40/40 [00:02<00:00, 15.03it/s]t]\n",
      "100%|██████████| 40/40 [00:01<00:00, 20.92it/s]t]\n",
      "100%|██████████| 40/40 [00:03<00:00, 13.28it/s]t]\n",
      "100%|██████████| 40/40 [00:02<00:00, 16.12it/s]t]\n",
      "100%|██████████| 256/256 [07:14<00:00,  1.70s/it]\n"
     ]
    }
   ],
   "source": [
    "data = 'E'\n",
    "features = participant.get_features_all_sessions_mvt(data)"
   ]
  },
  {
   "cell_type": "code",
   "execution_count": 4,
   "metadata": {},
   "outputs": [
    {
     "name": "stdout",
     "output_type": "stream",
     "text": [
      "The dataset contains 128 samples and 2881 features.\n"
     ]
    }
   ],
   "source": [
    "print(f'The dataset contains {features.shape[0]} samples and {features.shape[1]} features.')"
   ]
  },
  {
   "cell_type": "code",
   "execution_count": 24,
   "metadata": {},
   "outputs": [
    {
     "data": {
      "text/plain": [
       "array(['B', 'S'], dtype='<U1')"
      ]
     },
     "execution_count": 24,
     "metadata": {},
     "output_type": "execute_result"
    }
   ],
   "source": [
    "np.unique(participant.sessions[0].trials[0].trials_info['ObjectSize'])"
   ]
  },
  {
   "cell_type": "markdown",
   "metadata": {},
   "source": [
    "## Train a model (SVM)"
   ]
  },
  {
   "cell_type": "code",
   "execution_count": 18,
   "metadata": {},
   "outputs": [
    {
     "name": "stdout",
     "output_type": "stream",
     "text": [
      "{'C': 10, 'kernel': 'sigmoid'}\n",
      "Accuracy: 0.62\n"
     ]
    }
   ],
   "source": [
    "X = features.drop('label', axis=1)\n",
    "y = features['label']\n",
    "\n",
    "X_train, X_test, y_train, y_test = train_test_split(X, y, test_size=0.2, random_state=RANDOM_STATE)\n",
    "\n",
    "# Normalize features\n",
    "scaler = StandardScaler()\n",
    "X_train = scaler.fit_transform(X_train)\n",
    "X_test = scaler.transform(X_test)\n",
    "\n",
    "# Train SVM\n",
    "parameters = {'C': [0.1, 1, 10, 100, 1000], 'kernel': ['linear', 'rbf', 'sigmoid']}\n",
    "svm = SVC()\n",
    "clf = GridSearchCV(svm, parameters)\n",
    "clf.fit(X_train, y_train)\n",
    "print(clf.best_params_)\n",
    "\n",
    "# Test SVM\n",
    "y_pred = clf.predict(X_test)\n",
    "accuracy = accuracy_score(y_test, y_pred)\n",
    "print(f\"Accuracy: {accuracy:.2f}\")"
   ]
  },
  {
   "cell_type": "markdown",
   "metadata": {},
   "source": [
    "#### With PCA"
   ]
  },
  {
   "cell_type": "code",
   "execution_count": 19,
   "metadata": {},
   "outputs": [
    {
     "name": "stdout",
     "output_type": "stream",
     "text": [
      "{'C': 0.1, 'kernel': 'linear'}\n",
      "Accuracy: 0.62\n"
     ]
    }
   ],
   "source": [
    "X = features.drop('label', axis=1)\n",
    "y = features['label']\n",
    "\n",
    "X_train, X_test, y_train, y_test = train_test_split(X, y, test_size=0.2, random_state=RANDOM_STATE)\n",
    "\n",
    "# Normalize features\n",
    "scaler = StandardScaler()\n",
    "X_train = scaler.fit_transform(X_train)\n",
    "X_test = scaler.transform(X_test)\n",
    "\n",
    "pca = PCA(n_components=100)\n",
    "X_train_pca = pca.fit_transform(X_train)\n",
    "X_test_pca = pca.transform(X_test)\n",
    "\n",
    "# Train SVM\n",
    "parameters = {'C': [0.1, 1, 10, 100, 1000], 'kernel': ['linear', 'rbf', 'sigmoid']}\n",
    "svm = SVC()\n",
    "clf = GridSearchCV(svm, parameters)\n",
    "clf.fit(X_train_pca, y_train)\n",
    "print(clf.best_params_)\n",
    "\n",
    "# Test SVM\n",
    "y_pred = clf.predict(X_test_pca)\n",
    "accuracy = accuracy_score(y_test, y_pred)\n",
    "print(f\"Accuracy: {accuracy:.2f}\")"
   ]
  },
  {
   "cell_type": "markdown",
   "metadata": {},
   "source": [
    "## Train a model (Random Forest)"
   ]
  },
  {
   "cell_type": "code",
   "execution_count": 24,
   "metadata": {},
   "outputs": [
    {
     "name": "stdout",
     "output_type": "stream",
     "text": [
      "{'max_depth': 10, 'n_estimators': 90}\n",
      "Accuracy: 0.69\n"
     ]
    }
   ],
   "source": [
    "X_train, X_test, y_train, y_test = train_test_split(X, y, test_size=0.2, random_state=RANDOM_STATE)\n",
    "\n",
    "# Normalize features\n",
    "scaler = StandardScaler()\n",
    "X_train = scaler.fit_transform(X_train)\n",
    "X_test = scaler.transform(X_test)\n",
    "\n",
    "# Train Random Forest\n",
    "n_estimators = [10, 50, 90, 130]\n",
    "max_depth = [10, 25, 50]\n",
    "param_grid = {'n_estimators': n_estimators, 'max_depth': max_depth}\n",
    "\n",
    "rf = RandomForestClassifier() \n",
    "clf = GridSearchCV(rf, param_grid)\n",
    "clf.fit(X_train, y_train)\n",
    "print(clf.best_params_)\n",
    "\n",
    "# Test Random Forest\n",
    "y_pred = clf.predict(X_test)\n",
    "accuracy = accuracy_score(y_test, y_pred)\n",
    "print(f\"Accuracy: {accuracy:.2f}\")\n"
   ]
  },
  {
   "cell_type": "markdown",
   "metadata": {},
   "source": [
    "## Observation"
   ]
  },
  {
   "cell_type": "code",
   "execution_count": 25,
   "metadata": {},
   "outputs": [
    {
     "name": "stderr",
     "output_type": "stream",
     "text": [
      "100%|██████████| 40/40 [00:02<00:00, 17.12it/s]\n",
      "100%|██████████| 40/40 [00:01<00:00, 20.08it/s]\n",
      "100%|██████████| 40/40 [00:03<00:00, 13.12it/s]\n",
      "100%|██████████| 40/40 [00:02<00:00, 14.59it/s]\n",
      "100%|██████████| 40/40 [00:02<00:00, 14.49it/s]\n",
      "100%|██████████| 40/40 [00:01<00:00, 20.34it/s]\n",
      "100%|██████████| 40/40 [00:01<00:00, 21.54it/s]]\n",
      "100%|██████████| 40/40 [00:01<00:00, 23.78it/s]]\n",
      "100%|██████████| 40/40 [00:02<00:00, 14.46it/s]]\n",
      "100%|██████████| 40/40 [00:02<00:00, 17.89it/s]]\n",
      "100%|██████████| 40/40 [00:02<00:00, 15.58it/s]]\n",
      "100%|██████████| 40/40 [00:01<00:00, 21.33it/s]]\n",
      "100%|██████████| 40/40 [00:01<00:00, 23.97it/s]]\n",
      "100%|██████████| 40/40 [00:01<00:00, 24.34it/s]]\n",
      "100%|██████████| 40/40 [00:02<00:00, 13.60it/s]]\n",
      "100%|██████████| 40/40 [00:01<00:00, 20.48it/s]]\n",
      "100%|██████████| 40/40 [00:02<00:00, 18.34it/s]]\n",
      "100%|██████████| 40/40 [00:01<00:00, 21.87it/s]]\n",
      "100%|██████████| 40/40 [00:01<00:00, 20.51it/s]]\n",
      "100%|██████████| 40/40 [00:01<00:00, 22.31it/s]]\n",
      "100%|██████████| 40/40 [00:02<00:00, 18.85it/s]]\n",
      "100%|██████████| 40/40 [00:02<00:00, 15.75it/s]]\n",
      "100%|██████████| 40/40 [00:02<00:00, 15.39it/s]]\n",
      "100%|██████████| 40/40 [00:01<00:00, 29.41it/s]]\n",
      "100%|██████████| 40/40 [00:01<00:00, 22.48it/s]]\n",
      "100%|██████████| 40/40 [00:02<00:00, 14.87it/s]]\n",
      "100%|██████████| 40/40 [00:02<00:00, 14.76it/s]]\n",
      "100%|██████████| 40/40 [00:01<00:00, 22.56it/s]]\n",
      "100%|██████████| 40/40 [00:01<00:00, 30.22it/s]]\n",
      "100%|██████████| 40/40 [00:02<00:00, 16.72it/s]]\n",
      "100%|██████████| 40/40 [00:03<00:00, 12.97it/s]]\n",
      "100%|██████████| 40/40 [00:02<00:00, 16.10it/s]]\n",
      "100%|██████████| 40/40 [00:03<00:00, 10.48it/s]]\n",
      "100%|██████████| 40/40 [00:02<00:00, 16.01it/s]]\n",
      "100%|██████████| 40/40 [00:01<00:00, 22.78it/s]]\n",
      "100%|██████████| 40/40 [00:02<00:00, 15.77it/s]]\n",
      "100%|██████████| 40/40 [00:01<00:00, 23.52it/s]]\n",
      "100%|██████████| 40/40 [00:01<00:00, 24.40it/s]]\n",
      "100%|██████████| 40/40 [00:01<00:00, 30.87it/s]]\n",
      "100%|██████████| 40/40 [00:01<00:00, 22.55it/s]]\n",
      "100%|██████████| 40/40 [00:01<00:00, 24.03it/s]]\n",
      "100%|██████████| 40/40 [00:01<00:00, 22.29it/s]]\n",
      "100%|██████████| 40/40 [00:02<00:00, 15.36it/s]]\n",
      "100%|██████████| 40/40 [00:01<00:00, 22.78it/s]]\n",
      "100%|██████████| 40/40 [00:02<00:00, 18.46it/s]]\n",
      "100%|██████████| 40/40 [00:01<00:00, 21.75it/s]]\n",
      "100%|██████████| 40/40 [00:02<00:00, 15.48it/s]]\n",
      "100%|██████████| 40/40 [00:02<00:00, 16.17it/s]]\n",
      "100%|██████████| 40/40 [00:02<00:00, 15.57it/s]]\n",
      "100%|██████████| 40/40 [00:01<00:00, 22.40it/s]]\n",
      "100%|██████████| 40/40 [00:01<00:00, 21.79it/s]]\n",
      "100%|██████████| 40/40 [00:01<00:00, 23.49it/s]s]\n",
      "100%|██████████| 40/40 [00:01<00:00, 22.82it/s]t]\n",
      "100%|██████████| 40/40 [00:02<00:00, 16.15it/s]t]\n",
      "100%|██████████| 40/40 [00:01<00:00, 21.97it/s]t]\n",
      "100%|██████████| 40/40 [00:01<00:00, 22.84it/s]t]\n",
      "100%|██████████| 40/40 [00:02<00:00, 16.30it/s]t]\n",
      "100%|██████████| 40/40 [00:01<00:00, 21.82it/s]t]\n",
      "100%|██████████| 40/40 [00:02<00:00, 16.18it/s]t]\n",
      "100%|██████████| 40/40 [00:02<00:00, 15.07it/s]t]\n",
      "100%|██████████| 40/40 [00:01<00:00, 23.81it/s]s]\n",
      "100%|██████████| 40/40 [00:01<00:00, 21.94it/s]s]\n",
      "100%|██████████| 40/40 [00:02<00:00, 15.78it/s]s]\n",
      "100%|██████████| 40/40 [00:01<00:00, 25.37it/s]t]\n",
      "100%|██████████| 40/40 [00:02<00:00, 16.07it/s]s]\n",
      "100%|██████████| 40/40 [00:01<00:00, 27.33it/s]s]\n",
      "100%|██████████| 40/40 [00:02<00:00, 17.68it/s]s]\n",
      "100%|██████████| 40/40 [00:01<00:00, 22.98it/s]s]\n",
      "100%|██████████| 40/40 [00:01<00:00, 21.25it/s]s]\n",
      "100%|██████████| 40/40 [00:02<00:00, 15.40it/s]s]\n",
      "100%|██████████| 40/40 [00:01<00:00, 20.80it/s]s]\n",
      "100%|██████████| 40/40 [00:01<00:00, 23.90it/s]s]\n",
      "100%|██████████| 40/40 [00:01<00:00, 22.58it/s]s]\n",
      "100%|██████████| 40/40 [00:01<00:00, 22.19it/s]s]\n",
      "100%|██████████| 40/40 [00:01<00:00, 22.14it/s]s]\n",
      "100%|██████████| 40/40 [00:02<00:00, 15.59it/s]s]\n",
      "100%|██████████| 40/40 [00:02<00:00, 14.84it/s]t]\n",
      "100%|██████████| 40/40 [00:01<00:00, 21.79it/s]t]\n",
      "100%|██████████| 40/40 [00:01<00:00, 20.02it/s]t]\n",
      "100%|██████████| 40/40 [00:02<00:00, 19.60it/s]t]\n",
      "100%|██████████| 40/40 [00:02<00:00, 16.27it/s]t]\n",
      "100%|██████████| 40/40 [00:01<00:00, 24.51it/s]t]\n",
      "100%|██████████| 40/40 [00:01<00:00, 23.51it/s]t]\n",
      "100%|██████████| 40/40 [00:01<00:00, 22.68it/s]t]\n",
      "100%|██████████| 40/40 [00:01<00:00, 24.14it/s]t]\n",
      "100%|██████████| 40/40 [00:01<00:00, 21.11it/s]t]\n",
      "100%|██████████| 40/40 [00:01<00:00, 22.89it/s]t]\n",
      "100%|██████████| 40/40 [00:01<00:00, 21.86it/s]s]\n",
      "100%|██████████| 40/40 [00:01<00:00, 23.65it/s]s]\n",
      "100%|██████████| 40/40 [00:01<00:00, 24.74it/s]s]\n",
      "100%|██████████| 40/40 [00:03<00:00, 12.95it/s]s]\n",
      "100%|██████████| 40/40 [00:02<00:00, 18.82it/s]t]\n",
      "100%|██████████| 40/40 [00:02<00:00, 17.86it/s]t]\n",
      "100%|██████████| 40/40 [00:03<00:00, 10.31it/s]t]\n",
      "100%|██████████| 40/40 [00:01<00:00, 21.64it/s]t]\n",
      "100%|██████████| 40/40 [00:02<00:00, 14.39it/s]t]\n",
      "100%|██████████| 40/40 [00:02<00:00, 16.24it/s]t]\n",
      "100%|██████████| 40/40 [00:03<00:00, 13.23it/s]t]\n",
      "100%|██████████| 40/40 [00:01<00:00, 20.56it/s]t]\n",
      "100%|██████████| 40/40 [00:02<00:00, 18.56it/s]t]\n",
      "100%|██████████| 40/40 [00:03<00:00, 12.15it/s]t]\n",
      "100%|██████████| 40/40 [00:03<00:00, 12.03it/s]t]\n",
      "100%|██████████| 40/40 [00:03<00:00, 11.73it/s]t]\n",
      "100%|██████████| 40/40 [00:02<00:00, 18.60it/s]t]\n",
      "100%|██████████| 40/40 [00:02<00:00, 18.47it/s]t]\n",
      "100%|██████████| 40/40 [00:03<00:00, 12.05it/s]t]\n",
      "100%|██████████| 40/40 [00:02<00:00, 16.84it/s]t]\n",
      "100%|██████████| 40/40 [00:02<00:00, 19.94it/s]t]\n",
      "100%|██████████| 40/40 [00:03<00:00, 12.21it/s]t]\n",
      "100%|██████████| 40/40 [00:03<00:00, 11.46it/s]t]\n",
      "100%|██████████| 40/40 [00:02<00:00, 18.59it/s]t]\n",
      "100%|██████████| 40/40 [00:03<00:00, 10.02it/s]t]\n",
      "100%|██████████| 40/40 [00:02<00:00, 17.95it/s]t]\n",
      "100%|██████████| 40/40 [00:02<00:00, 14.69it/s]t]\n",
      "100%|██████████| 40/40 [00:04<00:00,  8.80it/s]t]\n",
      "100%|██████████| 40/40 [00:03<00:00, 12.57it/s]t]\n",
      "100%|██████████| 40/40 [00:02<00:00, 18.36it/s]t]\n",
      "100%|██████████| 40/40 [00:03<00:00, 13.08it/s]t]\n",
      "100%|██████████| 40/40 [00:02<00:00, 16.19it/s]t]\n",
      "100%|██████████| 40/40 [00:03<00:00, 12.25it/s]t]\n",
      "100%|██████████| 40/40 [00:02<00:00, 18.05it/s]t]\n",
      "100%|██████████| 40/40 [00:03<00:00, 11.58it/s]t]\n",
      "100%|██████████| 40/40 [00:02<00:00, 13.76it/s]t]\n",
      "100%|██████████| 40/40 [00:02<00:00, 19.09it/s]t]\n",
      "100%|██████████| 40/40 [00:03<00:00, 11.90it/s]t]\n",
      "100%|██████████| 40/40 [00:02<00:00, 17.39it/s]t]\n",
      "100%|██████████| 40/40 [00:03<00:00, 10.89it/s]t]\n",
      "100%|██████████| 40/40 [00:02<00:00, 16.06it/s]t]\n",
      "100%|██████████| 256/256 [04:55<00:00,  1.15s/it]\n"
     ]
    }
   ],
   "source": [
    "data = 'O'\n",
    "features = participant.get_features_all_sessions_mvt(data)"
   ]
  },
  {
   "cell_type": "code",
   "execution_count": 26,
   "metadata": {},
   "outputs": [
    {
     "name": "stdout",
     "output_type": "stream",
     "text": [
      "The dataset contains 128 samples and 2881 features.\n"
     ]
    }
   ],
   "source": [
    "print(f'The dataset contains {features.shape[0]} samples and {features.shape[1]} features.')"
   ]
  },
  {
   "cell_type": "markdown",
   "metadata": {},
   "source": [
    "## Train a model (SVM)"
   ]
  },
  {
   "cell_type": "code",
   "execution_count": null,
   "metadata": {},
   "outputs": [
    {
     "name": "stdout",
     "output_type": "stream",
     "text": [
      "{'C': 10, 'kernel': 'rbf'}\n",
      "Accuracy: 0.81\n"
     ]
    }
   ],
   "source": [
    "X = features.drop('label', axis=1)\n",
    "y = features['label']\n",
    "\n",
    "X_train, X_test, y_train, y_test = train_test_split(X, y, test_size=0.2, random_state=RANDOM_STATE) #Best random state = 10, accuracy = 0.81\n",
    "\n",
    "# Normalize features\n",
    "scaler = StandardScaler()\n",
    "X_train = scaler.fit_transform(X_train)\n",
    "X_test = scaler.transform(X_test)\n",
    "\n",
    "# Train SVM\n",
    "parameters = {'C': [0.1, 1, 10, 100, 1000], 'kernel': ['linear', 'rbf', 'sigmoid']}\n",
    "svm = SVC()\n",
    "clf = GridSearchCV(svm, parameters)\n",
    "clf.fit(X_train, y_train)\n",
    "print(clf.best_params_)\n",
    "\n",
    "# Test SVM\n",
    "y_pred = clf.predict(X_test)\n",
    "accuracy = accuracy_score(y_test, y_pred)\n",
    "print(f\"Accuracy: {accuracy:.2f}\")"
   ]
  },
  {
   "cell_type": "markdown",
   "metadata": {},
   "source": [
    "#### With PCA"
   ]
  },
  {
   "cell_type": "code",
   "execution_count": null,
   "metadata": {},
   "outputs": [
    {
     "name": "stdout",
     "output_type": "stream",
     "text": [
      "{'C': 1, 'kernel': 'rbf'}\n",
      "Accuracy: 0.77\n"
     ]
    }
   ],
   "source": [
    "X = features.drop('label', axis=1)\n",
    "y = features['label']\n",
    "\n",
    "X_train, X_test, y_train, y_test = train_test_split(X, y, test_size=0.2, random_state=RANDOM_STATE)#best random state = 5, accuracy = 0.77\n",
    "\n",
    "# Normalize features\n",
    "scaler = StandardScaler()\n",
    "X_train = scaler.fit_transform(X_train)\n",
    "X_test = scaler.transform(X_test)\n",
    "\n",
    "pca = PCA(n_components=100)\n",
    "X_train_pca = pca.fit_transform(X_train)\n",
    "X_test_pca = pca.transform(X_test)\n",
    "\n",
    "# Train SVM\n",
    "parameters = {'C': [0.1, 1, 10, 100, 1000], 'kernel': ['linear', 'rbf', 'sigmoid']}\n",
    "svm = SVC()\n",
    "clf = GridSearchCV(svm, parameters)\n",
    "clf.fit(X_train_pca, y_train)\n",
    "print(clf.best_params_)\n",
    "\n",
    "# Test SVM\n",
    "y_pred = clf.predict(X_test_pca)\n",
    "accuracy = accuracy_score(y_test, y_pred)\n",
    "print(f\"Accuracy: {accuracy:.2f}\")"
   ]
  },
  {
   "cell_type": "markdown",
   "metadata": {},
   "source": [
    "## Train a model (Random Forest)"
   ]
  },
  {
   "cell_type": "code",
   "execution_count": null,
   "metadata": {},
   "outputs": [
    {
     "name": "stdout",
     "output_type": "stream",
     "text": [
      "{'max_depth': 50, 'n_estimators': 130}\n",
      "Accuracy: 0.85\n"
     ]
    }
   ],
   "source": [
    "X_train, X_test, y_train, y_test = train_test_split(X, y, test_size=0.2, random_state=RANDOM_STATE)#best random state = 42, accuracy = 0.85\n",
    "\n",
    "# Normalize features\n",
    "scaler = StandardScaler()\n",
    "X_train = scaler.fit_transform(X_train)\n",
    "X_test = scaler.transform(X_test)\n",
    "\n",
    "# Train Random Forest\n",
    "n_estimators = [10, 50, 90, 130]\n",
    "max_depth = [10, 25, 50]\n",
    "param_grid = {'n_estimators': n_estimators, 'max_depth': max_depth}\n",
    "\n",
    "rf = RandomForestClassifier() \n",
    "clf = GridSearchCV(rf, param_grid)\n",
    "clf.fit(X_train, y_train)\n",
    "print(clf.best_params_)\n",
    "\n",
    "# Test Random Forest\n",
    "y_pred = clf.predict(X_test)\n",
    "accuracy = accuracy_score(y_test, y_pred)\n",
    "print(f\"Accuracy: {accuracy:.2f}\")\n"
   ]
  },
  {
   "cell_type": "code",
   "execution_count": null,
   "metadata": {},
   "outputs": [],
   "source": []
  }
 ],
 "metadata": {
  "kernelspec": {
   "display_name": "mlcourse",
   "language": "python",
   "name": "python3"
  },
  "language_info": {
   "codemirror_mode": {
    "name": "ipython",
    "version": 3
   },
   "file_extension": ".py",
   "mimetype": "text/x-python",
   "name": "python",
   "nbconvert_exporter": "python",
   "pygments_lexer": "ipython3",
   "version": "3.11.10"
  }
 },
 "nbformat": 4,
 "nbformat_minor": 2
}
