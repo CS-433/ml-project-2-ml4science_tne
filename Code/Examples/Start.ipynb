{
 "cells": [
  {
   "cell_type": "code",
   "execution_count": 2,
   "id": "f93d378a-52e9-44cd-8994-f803bd5e94f0",
   "metadata": {},
   "outputs": [],
   "source": [
    "import numpy as np\n",
    "from Functions_examples import *"
   ]
  },
  {
   "cell_type": "markdown",
   "id": "48c16597-17cb-43a1-9792-63f7b6393c73",
   "metadata": {},
   "source": [
    "### Loading the data of the 4 participants"
   ]
  },
  {
   "cell_type": "code",
   "execution_count": 3,
   "id": "0fa31fc9-23ad-4842-965d-427d08493d18",
   "metadata": {},
   "outputs": [],
   "source": [
    "data = load_pickle_variable('../Data/Dataset_4subjects_Exe_Obs')"
   ]
  },
  {
   "cell_type": "code",
   "execution_count": 4,
   "id": "15fad15d-c123-4d00-b12a-c0604e5ab810",
   "metadata": {},
   "outputs": [
    {
     "name": "stdout",
     "output_type": "stream",
     "text": [
      "Subject s6\n",
      "- sess1\n",
      "Subject s7\n",
      "- sess1\n",
      "Subject s11\n",
      "- sess1\n",
      "- sess2\n",
      "- sess3\n",
      "Subject s12\n",
      "- sess1\n",
      "- sess2\n"
     ]
    }
   ],
   "source": [
    "for subj in data.keys():\n",
    "    print('Subject %s'%subj)\n",
    "    for sess in data[subj].keys():\n",
    "        print('- %s'%sess)"
   ]
  },
  {
   "cell_type": "markdown",
   "id": "2942d93c-425c-4919-8dfa-6217db51d925",
   "metadata": {},
   "source": [
    "### Having a look at channel locations"
   ]
  },
  {
   "cell_type": "code",
   "execution_count": 5,
   "id": "f7b6175d-851f-4011-b70f-c0e5c0760ad7",
   "metadata": {},
   "outputs": [
    {
     "name": "stdout",
     "output_type": "stream",
     "text": [
      "\n",
      "\n",
      "================= Subject s6 =================\n",
      "There are 10 unique brain locations.\n",
      "These are:\n",
      "- WM_insula : 2 channels\n",
      "- WM_paracentral : 2 channels\n",
      "- WM_precentral : 7 channels\n",
      "- caudalmiddlefrontal : 8 channels\n",
      "- insula : 7 channels\n",
      "- paracentral : 9 channels\n",
      "- postcentral : 21 channels\n",
      "- precentral : 36 channels\n",
      "- superiorfrontal : 8 channels\n",
      "- supramarginal : 6 channels\n",
      "\n",
      "\n",
      "================= Subject s7 =================\n",
      "There are 11 unique brain locations.\n",
      "These are:\n",
      "- Putamen : 3 channels\n",
      "- Thalamus : 1 channels\n",
      "- caudalmiddlefrontal : 6 channels\n",
      "- insula : 11 channels\n",
      "- parsopercularis : 6 channels\n",
      "- postcentral : 18 channels\n",
      "- precentral : 30 channels\n",
      "- superiorparietal : 3 channels\n",
      "- superiortemporal : 1 channels\n",
      "- supramarginal : 20 channels\n",
      "- transversetemporal : 3 channels\n",
      "\n",
      "\n",
      "================= Subject s11 =================\n",
      "There are 15 unique brain locations.\n",
      "These are:\n",
      "- WM_paracentral : 2 channels\n",
      "- WM_superiorfrontal : 1 channels\n",
      "- caudalanteriorcingulate : 8 channels\n",
      "- caudalmiddlefrontal : 6 channels\n",
      "- medialorbitofrontal : 8 channels\n",
      "- paracentral : 12 channels\n",
      "- postcentral : 1 channels\n",
      "- posteriorcingulate : 6 channels\n",
      "- precentral : 14 channels\n",
      "- precuneus : 2 channels\n",
      "- rostralanteriorcingulate : 5 channels\n",
      "- rostralmiddlefrontal : 12 channels\n",
      "- superiorfrontal : 53 channels\n",
      "- superiorparietal : 2 channels\n",
      "- unknown : 1 channels\n",
      "\n",
      "\n",
      "================= Subject s12 =================\n",
      "There are 19 unique brain locations.\n",
      "These are:\n",
      "- WM_insula : 1 channels\n",
      "- WM_paracentral : 1 channels\n",
      "- WM_rostralmiddlefrontal : 1 channels\n",
      "- caudalanteriorcingulate : 2 channels\n",
      "- caudalmiddlefrontal : 11 channels\n",
      "- inferiorparietal : 8 channels\n",
      "- insula : 25 channels\n",
      "- isthmuscingulate : 6 channels\n",
      "- paracentral : 8 channels\n",
      "- parsopercularis : 5 channels\n",
      "- parstriangularis : 4 channels\n",
      "- postcentral : 17 channels\n",
      "- posteriorcingulate : 15 channels\n",
      "- precentral : 6 channels\n",
      "- precuneus : 17 channels\n",
      "- rostralmiddlefrontal : 5 channels\n",
      "- superiorfrontal : 15 channels\n",
      "- superiorparietal : 19 channels\n",
      "- supramarginal : 20 channels\n"
     ]
    }
   ],
   "source": [
    "for subj in data.keys():\n",
    "    print('\\n\\n================= Subject %s ================='%subj)\n",
    "    tmp_ch_locs = data[subj]['sess1']['channel_locations'][0]\n",
    "    unique_locs, counts_locs = np.unique(tmp_ch_locs, return_counts = True)\n",
    "    print('There are %d unique brain locations.'%len(unique_locs))\n",
    "    print('These are:')\n",
    "    for l, loc in enumerate(unique_locs):\n",
    "        print('- %s : %d channels'%(loc, counts_locs[l]))"
   ]
  },
  {
   "cell_type": "code",
   "execution_count": null,
   "id": "8c25b5e4-6554-43d2-9c6a-aec36f76ce99",
   "metadata": {},
   "outputs": [],
   "source": []
  }
 ],
 "metadata": {
  "kernelspec": {
   "display_name": "ml4scienceTNEproject",
   "language": "python",
   "name": "python3"
  },
  "language_info": {
   "codemirror_mode": {
    "name": "ipython",
    "version": 3
   },
   "file_extension": ".py",
   "mimetype": "text/x-python",
   "name": "python",
   "nbconvert_exporter": "python",
   "pygments_lexer": "ipython3",
   "version": "3.13.0"
  }
 },
 "nbformat": 4,
 "nbformat_minor": 5
}
